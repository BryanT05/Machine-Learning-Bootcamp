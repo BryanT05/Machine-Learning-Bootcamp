{
  "nbformat": 4,
  "nbformat_minor": 0,
  "metadata": {
    "colab": {
      "name": "Data Understanding.ipynb",
      "provenance": []
    },
    "kernelspec": {
      "name": "python3",
      "display_name": "Python 3"
    },
    "language_info": {
      "name": "python"
    }
  },
  "cells": [
    {
      "cell_type": "markdown",
      "metadata": {
        "id": "QyhH0_1Z43yO"
      },
      "source": [
        "#DATA UNDERSTANDING"
      ]
    },
    {
      "cell_type": "markdown",
      "metadata": {
        "id": "Fylq1SH_473v"
      },
      "source": [
        "Stroke is one of the biggest factor for global death, medical analysis is usually needed for this disease, but not all people can leisurely access medical analysis and not all people have required knowledge to detect this illness. This dataset contains condition of people that have and do not have stroke.\n",
        "\n",
        "This dataset is provided by [fedesoriano](https://www.kaggle.com/fedesoriano)\n",
        "\n",
        "The dataset can be downloaded from this [Kaggle](https://www.kaggle.com/fedesoriano/stroke-prediction-dataset) page.\n",
        "\n",
        "##**Data Source**\n",
        "\n",
        "All of the data source is confidential, you could contact [fedesoriano](https://www.kaggle.com/fedesoriano) for more info about this dataset.\n",
        "\n",
        "##**Data Overview**\n",
        "\n",
        "**Dataset Statistics** | **Count** | **Variable Types** | **Count**\n",
        "--- | --- | --- | ---\n",
        "Number of variables | 12 | Numerical | 4\n",
        "Number of observations | 5110 | Categorical | 7\n",
        "Missing cells | 201 | Boolean | 1\n",
        "Missing cells (%) | 0.3% |\n",
        "Duplicate rows | 0\n",
        "Duplicate rows (%)|0.0%\n",
        "Total size in memory|479.2 KiB\n",
        "Average record size in memory|96.0 B\n",
        "\n",
        "##**Column Explanation**\n",
        "No|Feature|Data Type|Zeros (%)|Null (%)|Distinct (%)|Description\n",
        "--- | --- | --- | --- | --- | --- | ---\n",
        "1 | ID | int64 | 0.0% | 0.0% | 100.0% | Unique ID\n",
        "2 | gender | object | - | 0.1% | 0.0% | Gender\n",
        "3 | age | flaot64 | 0.0% | 0.0% | 2.0% | Age\n",
        "4 | hypertension | int64 | - | 0.0% | < 0.1% | Hypertension (Y/N)\n",
        "5 |   heart_disease       | int64 |  - | 0.0% | < 0.1% | Heart disease (Y/N)\n",
        "6 |    ever_married       | object |  - | 0.0% | < 0.1% | Ever married (Y/N)\n",
        "7 |    work_type          | object |  - | 0.0% | 0.1% | Work type of the patient\n",
        "8 |   Residence_type      | object |  - | 0.0% | < 0.1% | Residence type of the patient\n",
        "9 |   avg_glucose_level   | float64 | 0.0% | 0.0% | \t77.9% | Average glucose level in blood\n",
        "10 |    bmi               | float64 | 0.0% | 3.9% | 8.5 % | Body Mass Index\n",
        "11 |   smoking_status     | object |  - | 0.0% | 0.1% | Smoking status of the patient\n",
        "12 |   stroke             | int64  |  - | 0.0% | < 0.1% | Stroke (Y/N)\n",
        "\n",
        "The description of the dataset is provided by [fedesoriano](https://www.kaggle.com/fedesoriano), the author of dataset.\n",
        "\n"
      ]
    }
  ]
}