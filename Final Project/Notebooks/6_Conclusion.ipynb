{
  "nbformat": 4,
  "nbformat_minor": 0,
  "metadata": {
    "colab": {
      "name": "Conclusion.ipynb",
      "provenance": []
    },
    "kernelspec": {
      "name": "python3",
      "display_name": "Python 3"
    },
    "language_info": {
      "name": "python"
    }
  },
  "cells": [
    {
      "cell_type": "markdown",
      "metadata": {
        "id": "kxyAPyDEgoaO"
      },
      "source": [
        "#Conclusion"
      ]
    },
    {
      "cell_type": "markdown",
      "metadata": {
        "id": "aQK5IS1SD1-a"
      },
      "source": [
        "In order to create the best model, I tested 9 models such as LogisticRegression, RandomForest, BaggingTreeClassifier, etc. From the results, I get RandomForest as my best model with ROC score 0.995 Accuracy 0.976\n",
        "f1 0.976 Recall 0.976 Precision 0.977. I belive my model will help predicting stroke on a patient accurately.\n",
        "\n",
        "Eventhough the model has met my criteria for real world use, I believe I can improve my model further because there are many limitations when creating this model such as time and resource limitations.\n",
        "\n",
        "\n",
        "*   Adding more feature to predict the stroke.\n",
        "*   Search for better model.\n",
        "*   Adding the instance of data.\n",
        "\n",
        "\n"
      ]
    }
  ]
}