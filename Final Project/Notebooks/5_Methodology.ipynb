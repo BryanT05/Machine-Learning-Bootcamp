{
  "nbformat": 4,
  "nbformat_minor": 0,
  "metadata": {
    "colab": {
      "name": "Methodology.ipynb",
      "provenance": []
    },
    "kernelspec": {
      "display_name": "Python 3",
      "name": "python3"
    },
    "language_info": {
      "name": "python"
    }
  },
  "cells": [
    {
      "cell_type": "code",
      "metadata": {
        "id": "9AlHu6_wCa0g"
      },
      "source": [
        "import pandas as pd \n",
        "import numpy as np \n",
        "import matplotlib.pyplot as plt \n",
        "import seaborn as sns\n",
        "\n",
        "from sklearn.metrics import classification_report\n",
        "from sklearn import preprocessing\n",
        "from sklearn.model_selection import train_test_split\n",
        "\n",
        "from sklearn.metrics import roc_auc_score\n",
        "from sklearn.dummy import DummyClassifier\n",
        "from sklearn.model_selection import cross_val_score\n",
        "# from pandas_profiling import ProfileReport\n",
        "\n",
        "#model\n",
        "from sklearn.naive_bayes import GaussianNB\n",
        "from sklearn.linear_model import LogisticRegression\n",
        "from sklearn.neighbors import KNeighborsClassifier\n",
        "from sklearn.svm import SVC\n",
        "from sklearn.tree import DecisionTreeClassifier\n",
        "from sklearn.ensemble import BaggingClassifier\n",
        "from sklearn.ensemble import AdaBoostClassifier #boosted decision tree\n",
        "from sklearn.ensemble import RandomForestClassifier\n",
        "# from sklearn.ensemble import VotingClassifier\n",
        "\n",
        "#scoring\n",
        "from sklearn.metrics import roc_auc_score\n",
        "from sklearn.metrics import accuracy_score\n",
        "from sklearn.metrics import f1_score\n",
        "from sklearn.metrics import recall_score\n",
        "from sklearn.metrics import precision_score\n",
        "\n",
        "from sklearn.model_selection import GridSearchCV\n",
        "import missingno as msno\n",
        "\n",
        "import warnings\n",
        "warnings.filterwarnings(\"ignore\")"
      ],
      "execution_count": 78,
      "outputs": []
    },
    {
      "cell_type": "code",
      "metadata": {
        "id": "FP_wO14rHXjn"
      },
      "source": [
        "df = pd.read_csv(\"df_train.csv\")\n",
        "df_norm = pd.read_csv(\"df_train_normalized.csv\")\n",
        "df_stand = pd.read_csv(\"df_train_standarize.csv\")\n",
        "df_val = pd.read_csv(\"df_val.csv\")"
      ],
      "execution_count": 89,
      "outputs": []
    },
    {
      "cell_type": "code",
      "metadata": {
        "id": "JHO7pGQmH1sE"
      },
      "source": [
        "X = df.drop(['stroke'], axis = 1)\n",
        "y = df['stroke']\n",
        "X_train, X_test, y_train, y_test = train_test_split(X, y, test_size = 0.2,random_state = 42, stratify = y)\n",
        "\n",
        "X_norm = df_norm.drop(['stroke'], axis = 1)\n",
        "y_norm = df_norm['stroke']\n",
        "X_norm_train, X_norm_test, y_norm_train, y_norm_test = train_test_split(X_norm, y_norm, test_size = 0.2,random_state = 42, stratify = y_norm)\n",
        "\n",
        "X_stand = df_stand.drop(['stroke'], axis = 1)\n",
        "y_stand = df_stand['stroke']\n",
        "X_stand_train, X_stand_test, y_stand_train, y_stand_test = train_test_split(X_stand, y_stand, test_size = 0.2,random_state = 42, stratify = y_stand)\n",
        "\n",
        "X_val = df_val.drop(['stroke'], axis = 1)\n",
        "y_val = df_val['stroke']"
      ],
      "execution_count": 90,
      "outputs": []
    },
    {
      "cell_type": "code",
      "metadata": {
        "colab": {
          "base_uri": "https://localhost:8080/"
        },
        "id": "FxVzFLgiIU2P",
        "outputId": "d3e220fa-ccd2-4176-e632-37077b6ae0d4"
      },
      "source": [
        "y_train.value_counts()"
      ],
      "execution_count": null,
      "outputs": [
        {
          "output_type": "execute_result",
          "data": {
            "text/plain": [
              "0    2915\n",
              "1     150\n",
              "Name: stroke, dtype: int64"
            ]
          },
          "metadata": {
            "tags": []
          },
          "execution_count": 13
        }
      ]
    },
    {
      "cell_type": "code",
      "metadata": {
        "colab": {
          "base_uri": "https://localhost:8080/"
        },
        "id": "LatA2VG1IY_W",
        "outputId": "c8acb159-b217-47ea-90ff-38a2b16417df"
      },
      "source": [
        "y_test.value_counts()"
      ],
      "execution_count": null,
      "outputs": [
        {
          "output_type": "execute_result",
          "data": {
            "text/plain": [
              "0    730\n",
              "1     37\n",
              "Name: stroke, dtype: int64"
            ]
          },
          "metadata": {
            "tags": []
          },
          "execution_count": 14
        }
      ]
    },
    {
      "cell_type": "code",
      "metadata": {
        "id": "LkAnynyvHrrm"
      },
      "source": [
        "model = LogisticRegression().fit(X_train, y_train)"
      ],
      "execution_count": null,
      "outputs": []
    },
    {
      "cell_type": "markdown",
      "metadata": {
        "id": "SaAD-xMDLHgo"
      },
      "source": [
        "#Baseline Model"
      ]
    },
    {
      "cell_type": "code",
      "metadata": {
        "colab": {
          "base_uri": "https://localhost:8080/"
        },
        "id": "RSRfmY8-Qa24",
        "outputId": "0dd37277-72aa-47dd-fe44-8ebe61cacfc8"
      },
      "source": [
        "model = DummyClassifier(strategy='constant', constant = 1, random_state= 42)\n",
        "scores = cross_val_score(model, X, y, scoring='roc_auc', n_jobs=-1)\n",
        "print('Mean roc_auc: %.3f (%.3f)' % (np.mean(scores), np.std(scores)))"
      ],
      "execution_count": 24,
      "outputs": [
        {
          "output_type": "stream",
          "text": [
            "Mean roc_auc: 0.500 (0.000)\n"
          ],
          "name": "stdout"
        }
      ]
    },
    {
      "cell_type": "code",
      "metadata": {
        "colab": {
          "base_uri": "https://localhost:8080/"
        },
        "id": "oymGca0ZJNfU",
        "outputId": "80a4ac61-b507-4c7b-f0d6-ba7fcee41a7c"
      },
      "source": [
        "y_pred = model.predict(X_test)\n",
        "print(classification_report(y_test, y_pred))"
      ],
      "execution_count": null,
      "outputs": [
        {
          "output_type": "stream",
          "text": [
            "              precision    recall  f1-score   support\n",
            "\n",
            "           0       0.95      1.00      0.98       730\n",
            "           1       0.00      0.00      0.00        37\n",
            "\n",
            "    accuracy                           0.95       767\n",
            "   macro avg       0.48      0.50      0.49       767\n",
            "weighted avg       0.91      0.95      0.93       767\n",
            "\n"
          ],
          "name": "stdout"
        }
      ]
    },
    {
      "cell_type": "code",
      "metadata": {
        "id": "Fb7oyMuKJ4qX",
        "colab": {
          "base_uri": "https://localhost:8080/"
        },
        "outputId": "0aab4cab-a8b9-4b3b-a92b-8203fa487cb0"
      },
      "source": [
        "roc_auc_score(y_test, y_pred)"
      ],
      "execution_count": 20,
      "outputs": [
        {
          "output_type": "execute_result",
          "data": {
            "text/plain": [
              "0.5"
            ]
          },
          "metadata": {
            "tags": []
          },
          "execution_count": 20
        }
      ]
    },
    {
      "cell_type": "markdown",
      "metadata": {
        "id": "2tVG_nzRRCw3"
      },
      "source": [
        "#Model Selection"
      ]
    },
    {
      "cell_type": "code",
      "metadata": {
        "id": "XUKk8uQYRBvm"
      },
      "source": [
        "models = []\n",
        "names = []\n",
        "\n",
        "models.append(LogisticRegression(solver='liblinear'))\n",
        "names.append('LogisticRegression')\n",
        "\n",
        "models.append(GaussianNB())\n",
        "names.append('Naive Bayes')\n",
        "\n",
        "models.append(KNeighborsClassifier())\n",
        "names.append('KNN')\n",
        "\n",
        "models.append(SVC(gamma='scale'))\n",
        "names.append('SVM')\n",
        "\n",
        "models.append(DecisionTreeClassifier())\n",
        "names.append('Decision Tree')\n",
        "\n",
        "models.append(BaggingClassifier())\n",
        "names.append('Bagging Decision Tree')\n",
        "\n",
        "models.append(AdaBoostClassifier(base_estimator=DecisionTreeClassifier(), n_estimators=25, learning_rate = 0.1))\n",
        "names.append('Boosted Decision tree')\n",
        "\n",
        "models.append(RandomForestClassifier())\n",
        "names.append('Random Forest')"
      ],
      "execution_count": 36,
      "outputs": []
    },
    {
      "cell_type": "code",
      "metadata": {
        "id": "OZXo6n5IRALX"
      },
      "source": [
        "def model_score(model, name):\n",
        "  scores = cross_val_score(model, X, y, scoring='roc_auc', n_jobs=-1)\n",
        "  print('>%s %.3f (%.3f)' % (name, np.mean(scores), np.std(scores)))\n",
        "  # print(f'{name} {np.mean(scores)} {np.std(scores)}')"
      ],
      "execution_count": 47,
      "outputs": []
    },
    {
      "cell_type": "code",
      "metadata": {
        "colab": {
          "base_uri": "https://localhost:8080/"
        },
        "id": "zsXMcbyceiKn",
        "outputId": "60334122-0e9f-4c2d-d437-e9dc3757c317"
      },
      "source": [
        "for i in range(len(models)):\n",
        "  model_score(models[i],names[i])"
      ],
      "execution_count": 48,
      "outputs": [
        {
          "output_type": "stream",
          "text": [
            ">LogisticRegression 0.835 (0.018)\n",
            ">Naive Bayes 0.796 (0.014)\n",
            ">KNN 0.662 (0.050)\n",
            ">SVM 0.616 (0.074)\n",
            ">Decision Tree 0.567 (0.027)\n",
            ">Bagging Decision Tree 0.744 (0.033)\n",
            ">Boosted Decision tree 0.552 (0.028)\n",
            ">Random Forest 0.794 (0.018)\n"
          ],
          "name": "stdout"
        }
      ]
    },
    {
      "cell_type": "markdown",
      "metadata": {
        "id": "i2IeqkWmpmXy"
      },
      "source": [
        "##normalize"
      ]
    },
    {
      "cell_type": "code",
      "metadata": {
        "id": "nSZIPMtAfiMH"
      },
      "source": [
        "def model_score_norm(model, name):\n",
        "  scores = cross_val_score(model, X_norm, y_norm, scoring='roc_auc', n_jobs=-1)\n",
        "  print('>%s %.3f (%.3f)' % (name, np.mean(scores), np.std(scores)))"
      ],
      "execution_count": 49,
      "outputs": []
    },
    {
      "cell_type": "code",
      "metadata": {
        "colab": {
          "base_uri": "https://localhost:8080/"
        },
        "id": "q4_cfdkHqGCN",
        "outputId": "bba02935-4d8d-4e31-f27f-b9ae8adebede"
      },
      "source": [
        "for i in range(len(models)):\n",
        "  model_score_norm(models[i],names[i])"
      ],
      "execution_count": 50,
      "outputs": [
        {
          "output_type": "stream",
          "text": [
            ">LogisticRegression 0.834 (0.018)\n",
            ">Naive Bayes 0.796 (0.014)\n",
            ">KNN 0.626 (0.027)\n",
            ">SVM 0.655 (0.047)\n",
            ">Decision Tree 0.567 (0.034)\n",
            ">Bagging Decision Tree 0.717 (0.051)\n",
            ">Boosted Decision tree 0.545 (0.030)\n",
            ">Random Forest 0.788 (0.021)\n"
          ],
          "name": "stdout"
        }
      ]
    },
    {
      "cell_type": "markdown",
      "metadata": {
        "id": "YqtsDmDZqUnr"
      },
      "source": [
        "##standarization"
      ]
    },
    {
      "cell_type": "code",
      "metadata": {
        "id": "lGeNtSe_qOwa"
      },
      "source": [
        "def model_score_stand(model, name):\n",
        "  scores = cross_val_score(model, X_stand, y_stand, scoring='roc_auc', n_jobs=-1)\n",
        "  print('>%s %.3f (%.3f)' % (name, np.mean(scores), np.std(scores)))"
      ],
      "execution_count": 51,
      "outputs": []
    },
    {
      "cell_type": "code",
      "metadata": {
        "colab": {
          "base_uri": "https://localhost:8080/"
        },
        "id": "hRIIAgVPqaZB",
        "outputId": "3f31ac9b-7a5c-450d-d2cb-27614b65d68d"
      },
      "source": [
        "for i in range(len(models)):\n",
        "  model_score_stand(models[i],names[i])"
      ],
      "execution_count": 52,
      "outputs": [
        {
          "output_type": "stream",
          "text": [
            ">LogisticRegression 0.835 (0.019)\n",
            ">Naive Bayes 0.796 (0.014)\n",
            ">KNN 0.624 (0.040)\n",
            ">SVM 0.683 (0.042)\n",
            ">Decision Tree 0.564 (0.035)\n",
            ">Bagging Decision Tree 0.706 (0.041)\n",
            ">Boosted Decision tree 0.569 (0.025)\n",
            ">Random Forest 0.783 (0.019)\n"
          ],
          "name": "stdout"
        }
      ]
    },
    {
      "cell_type": "code",
      "metadata": {
        "id": "q6WwAQINqc4r"
      },
      "source": [
        "def model_score2(model, name):\n",
        "  y_pred = model.fit(X_train, y_train).predict(X_test)\n",
        "  try:\n",
        "    score  = model.predict_proba(X_test)[:, 1]\n",
        "    roc = roc_auc_score(y_test, score, average ='weighted')\n",
        "  except:\n",
        "    roc = 0\n",
        "  print(f'{name}:')\n",
        "  print(f'ROC score {roc}')\n",
        "  print(f'Accuracy {accuracy_score(y_test,y_pred)}')\n",
        "  print(f'f1 {f1_score(y_test,y_pred, average = \"weighted\")}')\n",
        "  print(f'Recall {recall_score(y_test,y_pred, average = \"weighted\")}')\n",
        "  print(f'Precision {precision_score(y_test,y_pred, average = \"weighted\")}')\n",
        "  print()\n",
        "\n",
        "def model_score2_norm(model, name):\n",
        "  y_pred = model.fit(X_norm_train, y_norm_train).predict(X_norm_test)\n",
        "  try:\n",
        "    score  = model.predict_proba(X_norm_test)[:, 1]\n",
        "    roc = roc_auc_score(y_norm_test, score, average ='weighted')\n",
        "  except:\n",
        "    roc = 0\n",
        "  print(f'{name}:')\n",
        "  print(f'ROC score {roc}')\n",
        "  print(f'Accuracy {accuracy_score(y_norm_test,y_pred)}')\n",
        "  print(f'f1 {f1_score(y_norm_test,y_pred, average = \"weighted\")}')\n",
        "  print(f'Recall {recall_score(y_norm_test,y_pred, average = \"weighted\")}')\n",
        "  print(f'Precision {precision_score(y_norm_test,y_pred, average = \"weighted\")}')\n",
        "  print()\n",
        "\n",
        "def model_score2_stand(model, name):\n",
        "  y_pred = model.fit(X_stand_train, y_stand_train).predict(X_stand_test)\n",
        "  try:\n",
        "    score  = model.predict_proba(X_stand_test)[:, 1]\n",
        "    roc = roc_auc_score(y_stand_test, score, average ='weighted')\n",
        "  except:\n",
        "    roc = 0\n",
        "  print(f'{name}:')\n",
        "  print(f'ROC score {roc}')\n",
        "  print(f'Accuracy {accuracy_score(y_stand_test,y_pred)}')\n",
        "  print(f'f1 {f1_score(y_stand_test,y_pred, average = \"weighted\")}')\n",
        "  print(f'Recall {recall_score(y_stand_test,y_pred, average = \"weighted\")}')\n",
        "  print(f'Precision {precision_score(y_stand_test,y_pred, average = \"weighted\")}')\n",
        "  print()"
      ],
      "execution_count": 73,
      "outputs": []
    },
    {
      "cell_type": "code",
      "metadata": {
        "colab": {
          "base_uri": "https://localhost:8080/"
        },
        "id": "3I8JqU3rr5w1",
        "outputId": "fff516f9-1948-45a1-f23c-bf77a9d22621"
      },
      "source": [
        "for i in range(len(models)):\n",
        "  model_score2(models[i],names[i])"
      ],
      "execution_count": 71,
      "outputs": [
        {
          "output_type": "stream",
          "text": [
            "LogisticRegression:\n",
            "ROC score 0.845353572750833\n",
            "Accuracy 0.9517601043024772\n",
            "f1 0.9282363074693499\n",
            "Recall 0.9517601043024772\n",
            "Precision 0.9058472961418623\n",
            "\n",
            "Naive Bayes:\n",
            "ROC score 0.8417252869307664\n",
            "Accuracy 0.5280312907431551\n",
            "f1 0.6461614913593164\n",
            "Recall 0.5280312907431551\n",
            "Precision 0.9562334780889642\n",
            "\n",
            "KNN:\n",
            "ROC score 0.6301740096260644\n",
            "Accuracy 0.9413298565840938\n",
            "f1 0.922996367100589\n",
            "Recall 0.9413298565840938\n",
            "Precision 0.9053633666750837\n",
            "\n",
            "SVM:\n",
            "ROC score 0\n",
            "Accuracy 0.9517601043024772\n",
            "f1 0.9282363074693499\n",
            "Recall 0.9517601043024772\n",
            "Precision 0.9058472961418623\n",
            "\n",
            "Decision Tree:\n",
            "ROC score 0.5523139577934099\n",
            "Accuracy 0.9048239895697523\n",
            "f1 0.9106211757041874\n",
            "Recall 0.9048239895697523\n",
            "Precision 0.9167545373934897\n",
            "\n",
            "Bagging Decision Tree:\n",
            "ROC score 0.7437615697889671\n",
            "Accuracy 0.9478487614080835\n",
            "f1 0.9305949425389762\n",
            "Recall 0.9478487614080835\n",
            "Precision 0.9217118742096441\n",
            "\n",
            "Boosted Decision tree:\n",
            "ROC score 0.565142539800074\n",
            "Accuracy 0.9048239895697523\n",
            "f1 0.9115073052860053\n",
            "Recall 0.9048239895697523\n",
            "Precision 0.9186910911937506\n",
            "\n",
            "Random Forest:\n",
            "ROC score 0.8071825249907442\n",
            "Accuracy 0.9491525423728814\n",
            "f1 0.9269315798424125\n",
            "Recall 0.9491525423728814\n",
            "Precision 0.905727262656475\n",
            "\n"
          ],
          "name": "stdout"
        }
      ]
    },
    {
      "cell_type": "code",
      "metadata": {
        "colab": {
          "base_uri": "https://localhost:8080/"
        },
        "id": "AyK8fLr6r-cn",
        "outputId": "cf7de207-7079-4eef-b292-0c07cb3b8106"
      },
      "source": [
        "for i in range(len(models)):\n",
        "  model_score2_norm(models[i],names[i])"
      ],
      "execution_count": 74,
      "outputs": [
        {
          "output_type": "stream",
          "text": [
            "LogisticRegression:\n",
            "ROC score 0.8494631617919289\n",
            "Accuracy 0.9517601043024772\n",
            "f1 0.9282363074693499\n",
            "Recall 0.9517601043024772\n",
            "Precision 0.9058472961418623\n",
            "\n",
            "Naive Bayes:\n",
            "ROC score 0.8417252869307664\n",
            "Accuracy 0.36897001303780963\n",
            "f1 0.4861781138390232\n",
            "Recall 0.36897001303780963\n",
            "Precision 0.9551859702157369\n",
            "\n",
            "KNN:\n",
            "ROC score 0.6320066641984451\n",
            "Accuracy 0.9504563233376793\n",
            "f1 0.9321138412336666\n",
            "Recall 0.9504563233376793\n",
            "Precision 0.9273400472920024\n",
            "\n",
            "SVM:\n",
            "ROC score 0\n",
            "Accuracy 0.9517601043024772\n",
            "f1 0.9282363074693499\n",
            "Recall 0.9517601043024772\n",
            "Precision 0.9058472961418623\n",
            "\n",
            "Decision Tree:\n",
            "ROC score 0.550259163272862\n",
            "Accuracy 0.9009126466753585\n",
            "f1 0.9083149192509906\n",
            "Recall 0.9009126466753585\n",
            "Precision 0.9162278955998356\n",
            "\n",
            "Bagging Decision Tree:\n",
            "ROC score 0.6905960755275824\n",
            "Accuracy 0.940026075619296\n",
            "f1 0.9243078087062621\n",
            "Recall 0.940026075619296\n",
            "Precision 0.9108236396371989\n",
            "\n",
            "Boosted Decision tree:\n",
            "ROC score 0.5637726767863754\n",
            "Accuracy 0.9022164276401564\n",
            "f1 0.9099490891299867\n",
            "Recall 0.9022164276401564\n",
            "Precision 0.9183199460252915\n",
            "\n",
            "Random Forest:\n",
            "ROC score 0.7870973713439466\n",
            "Accuracy 0.9491525423728814\n",
            "f1 0.9269315798424125\n",
            "Recall 0.9491525423728814\n",
            "Precision 0.905727262656475\n",
            "\n"
          ],
          "name": "stdout"
        }
      ]
    },
    {
      "cell_type": "code",
      "metadata": {
        "colab": {
          "base_uri": "https://localhost:8080/"
        },
        "id": "YRRpyjPE2Hq7",
        "outputId": "d2e679ba-fc42-476e-f9e4-85fc653aaab1"
      },
      "source": [
        "for i in range(len(models)):\n",
        "  model_score2_stand(models[i],names[i])"
      ],
      "execution_count": 75,
      "outputs": [
        {
          "output_type": "stream",
          "text": [
            "LogisticRegression:\n",
            "ROC score 0.8453165494261385\n",
            "Accuracy 0.9517601043024772\n",
            "f1 0.9282363074693499\n",
            "Recall 0.9517601043024772\n",
            "Precision 0.9058472961418623\n",
            "\n",
            "Naive Bayes:\n",
            "ROC score 0.8417252869307664\n",
            "Accuracy 0.38852672750977835\n",
            "f1 0.5079048806388288\n",
            "Recall 0.38852672750977835\n",
            "Precision 0.9552875275056558\n",
            "\n",
            "KNN:\n",
            "ROC score 0.6261940022213995\n",
            "Accuracy 0.9478487614080835\n",
            "f1 0.9285408855091231\n",
            "Recall 0.9478487614080835\n",
            "Precision 0.9164430391442269\n",
            "\n",
            "SVM:\n",
            "ROC score 0\n",
            "Accuracy 0.9517601043024772\n",
            "f1 0.9282363074693499\n",
            "Recall 0.9517601043024772\n",
            "Precision 0.9058472961418623\n",
            "\n",
            "Decision Tree:\n",
            "ROC score 0.5637726767863754\n",
            "Accuracy 0.9022164276401564\n",
            "f1 0.9099490891299867\n",
            "Recall 0.9022164276401564\n",
            "Precision 0.9183199460252915\n",
            "\n",
            "Bagging Decision Tree:\n",
            "ROC score 0.708237689744539\n",
            "Accuracy 0.9426336375488917\n",
            "f1 0.9257140471275065\n",
            "Recall 0.9426336375488917\n",
            "Precision 0.9119177658598973\n",
            "\n",
            "Boosted Decision tree:\n",
            "ROC score 0.5779711218067383\n",
            "Accuracy 0.9048239895697523\n",
            "f1 0.9123504467531869\n",
            "Recall 0.9048239895697523\n",
            "Precision 0.9205787693401773\n",
            "\n",
            "Random Forest:\n",
            "ROC score 0.8106442058496853\n",
            "Accuracy 0.9504563233376793\n",
            "f1 0.9299640107583745\n",
            "Recall 0.9504563233376793\n",
            "Precision 0.9229927347772765\n",
            "\n"
          ],
          "name": "stdout"
        }
      ]
    },
    {
      "cell_type": "markdown",
      "metadata": {
        "id": "-kLjTdm72SJD"
      },
      "source": [
        "**Logistic Regression get the highest score so we will use logistic regression**"
      ]
    },
    {
      "cell_type": "code",
      "metadata": {
        "id": "IcN4M4VK2JPP"
      },
      "source": [
        "param_grid = {'penalty' : ['l1', 'l2'],\n",
        "    'C' : np.logspace(-4, 4, 20),\n",
        "    'solver' : ['liblinear']}"
      ],
      "execution_count": 79,
      "outputs": []
    },
    {
      "cell_type": "code",
      "metadata": {
        "id": "NGtS3HVt3ynB"
      },
      "source": [
        "model = LogisticRegression()\n",
        "gscv = GridSearchCV(model, param_grid = param_grid, cv = 5, verbose=True, n_jobs=-1)"
      ],
      "execution_count": 80,
      "outputs": []
    },
    {
      "cell_type": "code",
      "metadata": {
        "colab": {
          "base_uri": "https://localhost:8080/"
        },
        "id": "RRRk1RuX4C4z",
        "outputId": "6a54d80e-b988-4353-f570-42ebce47042e"
      },
      "source": [
        "best_model = gscv.fit(X,y)\n",
        "best_model.best_params_"
      ],
      "execution_count": 83,
      "outputs": [
        {
          "output_type": "stream",
          "text": [
            "Fitting 5 folds for each of 40 candidates, totalling 200 fits\n"
          ],
          "name": "stdout"
        },
        {
          "output_type": "stream",
          "text": [
            "[Parallel(n_jobs=-1)]: Using backend LokyBackend with 2 concurrent workers.\n",
            "[Parallel(n_jobs=-1)]: Done 200 out of 200 | elapsed:    5.3s finished\n"
          ],
          "name": "stderr"
        },
        {
          "output_type": "execute_result",
          "data": {
            "text/plain": [
              "{'C': 0.0001, 'penalty': 'l1', 'solver': 'liblinear'}"
            ]
          },
          "metadata": {
            "tags": []
          },
          "execution_count": 83
        }
      ]
    },
    {
      "cell_type": "code",
      "metadata": {
        "colab": {
          "base_uri": "https://localhost:8080/"
        },
        "id": "mbONcrx65wuR",
        "outputId": "9f192c8b-66dc-4769-b4c9-00b77266d339"
      },
      "source": [
        "best_model = gscv.fit(X_norm,y_norm)\n",
        "best_model.best_params_"
      ],
      "execution_count": 84,
      "outputs": [
        {
          "output_type": "stream",
          "text": [
            "Fitting 5 folds for each of 40 candidates, totalling 200 fits\n"
          ],
          "name": "stdout"
        },
        {
          "output_type": "stream",
          "text": [
            "[Parallel(n_jobs=-1)]: Using backend LokyBackend with 2 concurrent workers.\n",
            "[Parallel(n_jobs=-1)]: Done 200 out of 200 | elapsed:   12.8s finished\n"
          ],
          "name": "stderr"
        },
        {
          "output_type": "execute_result",
          "data": {
            "text/plain": [
              "{'C': 0.0001, 'penalty': 'l1', 'solver': 'liblinear'}"
            ]
          },
          "metadata": {
            "tags": []
          },
          "execution_count": 84
        }
      ]
    },
    {
      "cell_type": "code",
      "metadata": {
        "colab": {
          "base_uri": "https://localhost:8080/"
        },
        "id": "eORVlXhh5zdC",
        "outputId": "1d08444c-d730-4bf1-8579-5378728baeb5"
      },
      "source": [
        "best_model = gscv.fit(X_stand,y_stand)\n",
        "best_model.best_params_"
      ],
      "execution_count": 85,
      "outputs": [
        {
          "output_type": "stream",
          "text": [
            "Fitting 5 folds for each of 40 candidates, totalling 200 fits\n"
          ],
          "name": "stdout"
        },
        {
          "output_type": "stream",
          "text": [
            "[Parallel(n_jobs=-1)]: Using backend LokyBackend with 2 concurrent workers.\n",
            "[Parallel(n_jobs=-1)]: Done 200 out of 200 | elapsed:   10.4s finished\n"
          ],
          "name": "stderr"
        },
        {
          "output_type": "execute_result",
          "data": {
            "text/plain": [
              "{'C': 0.0001, 'penalty': 'l1', 'solver': 'liblinear'}"
            ]
          },
          "metadata": {
            "tags": []
          },
          "execution_count": 85
        }
      ]
    },
    {
      "cell_type": "markdown",
      "metadata": {
        "id": "27xlhlZZ6jEp"
      },
      "source": [
        "##Preprocess unseen data"
      ]
    },
    {
      "cell_type": "code",
      "metadata": {
        "colab": {
          "base_uri": "https://localhost:8080/"
        },
        "id": "9YX0CXi26iHY",
        "outputId": "e645a1e1-1e89-4eb9-b8f2-80fca4378918"
      },
      "source": [
        "X_train.shape"
      ],
      "execution_count": 86,
      "outputs": [
        {
          "output_type": "execute_result",
          "data": {
            "text/plain": [
              "(3065, 20)"
            ]
          },
          "metadata": {
            "tags": []
          },
          "execution_count": 86
        }
      ]
    },
    {
      "cell_type": "markdown",
      "metadata": {
        "id": "zJe6CROy6mQS"
      },
      "source": [
        "#final score"
      ]
    },
    {
      "cell_type": "markdown",
      "metadata": {
        "id": "1OuealJODhdS"
      },
      "source": [
        "###With hyperparameter Tuning"
      ]
    },
    {
      "cell_type": "code",
      "metadata": {
        "id": "TkmRpjNz5bPr"
      },
      "source": [
        "model = LogisticRegression(C = 0.0001, penalty = 'l1', solver= 'liblinear')\n",
        "def final_score(model,X,y, X_val, y_val):\n",
        "  y_pred = model.fit(X, y).predict(X_val)\n",
        "  try:\n",
        "    score  = model.predict_proba(X_val)[:, 1]\n",
        "    roc = roc_auc_score(y_val, score, average ='weighted')\n",
        "  except:\n",
        "    roc = 0\n",
        "  print(f'ROC score {roc}')\n",
        "  print(f'Accuracy {accuracy_score(y_val,y_pred)}')\n",
        "  print(f'f1 {f1_score(y_val,y_pred, average = \"weighted\")}')\n",
        "  print(f'Recall {recall_score(y_val,y_pred, average = \"weighted\")}')\n",
        "  print(f'Precision {precision_score(y_val,y_pred, average = \"weighted\")}')\n",
        "  print()"
      ],
      "execution_count": 101,
      "outputs": []
    },
    {
      "cell_type": "code",
      "metadata": {
        "colab": {
          "base_uri": "https://localhost:8080/"
        },
        "id": "wNpssCjUBGCQ",
        "outputId": "b7451b7e-2153-4689-c5f5-107039c6fcb8"
      },
      "source": [
        "final_score(model, X, y, X_val, y_val)"
      ],
      "execution_count": 102,
      "outputs": [
        {
          "output_type": "stream",
          "text": [
            "ROC score 0.3669288518675721\n",
            "Accuracy 0.9514866979655712\n",
            "f1 0.9278330591228023\n",
            "Recall 0.9514866979655712\n",
            "Precision 0.905326936405426\n",
            "\n"
          ],
          "name": "stdout"
        }
      ]
    },
    {
      "cell_type": "markdown",
      "metadata": {
        "id": "QloQ_PbyDe88"
      },
      "source": [
        "###Without hyperparameter tuning"
      ]
    },
    {
      "cell_type": "code",
      "metadata": {
        "id": "gvbLnsAYDAQa"
      },
      "source": [
        "model = LogisticRegression()"
      ],
      "execution_count": 118,
      "outputs": []
    },
    {
      "cell_type": "code",
      "metadata": {
        "colab": {
          "base_uri": "https://localhost:8080/"
        },
        "id": "U-tUSnauBhD5",
        "outputId": "2c128cda-3799-43cf-a169-f6283a470408"
      },
      "source": [
        "y_pred = model.fit(X, y).predict(X_val)\n",
        "try:\n",
        "  score  = model.predict_proba(X_val)[:, 1]\n",
        "  roc = roc_auc_score(y_val, score, average ='weighted')\n",
        "except:\n",
        "  roc = 0\n",
        "print('ROC score {:.3f}'.format(roc))\n",
        "print('Accuracy {:.3f}'.format(accuracy_score(y_val,y_pred)))\n",
        "print('f1 {:.3f}'.format(f1_score(y_val,y_pred, average = \"weighted\")))\n",
        "print('Recall {:.3f}'.format(recall_score(y_val,y_pred, average = \"weighted\")))\n",
        "print('Precision {:.3f}'.format(precision_score(y_val,y_pred, average = \"weighted\")))\n",
        "print()"
      ],
      "execution_count": 124,
      "outputs": [
        {
          "output_type": "stream",
          "text": [
            "ROC score 0.841\n",
            "Accuracy 0.952\n",
            "f1 0.930\n",
            "Recall 0.952\n",
            "Precision 0.955\n",
            "\n"
          ],
          "name": "stdout"
        }
      ]
    },
    {
      "cell_type": "code",
      "metadata": {
        "id": "Cz7OcWvmE6vU"
      },
      "source": [
        "import pickle\n",
        "filename = 'finalized_model.sav'\n",
        "pickle.dump(model, open(filename, 'wb'))"
      ],
      "execution_count": 120,
      "outputs": []
    },
    {
      "cell_type": "code",
      "metadata": {
        "id": "qTIcs9AxGTIm"
      },
      "source": [
        "loaded_model = pickle.load(open(filename, 'rb'))"
      ],
      "execution_count": 125,
      "outputs": []
    },
    {
      "cell_type": "code",
      "metadata": {
        "id": "eXuU8BfuGozT"
      },
      "source": [
        "def model_score(model):\n",
        "  y_pred = model.predict(X_val)\n",
        "  try:\n",
        "    score  = model.predict_proba(X_val)[:, 1]\n",
        "    roc = roc_auc_score(y_val, score, average ='weighted')\n",
        "  except:\n",
        "    roc = 0\n",
        "  print('ROC score {:.3f}'.format(roc))\n",
        "  print('Accuracy {:.3f}'.format(accuracy_score(y_val,y_pred)))\n",
        "  print('f1 {:.3f}'.format(f1_score(y_val,y_pred, average = \"weighted\")))\n",
        "  print('Recall {:.3f}'.format(recall_score(y_val,y_pred, average = \"weighted\")))\n",
        "  print('Precision {:.3f}'.format(precision_score(y_val,y_pred, average = \"weighted\")))\n",
        "  print()"
      ],
      "execution_count": 126,
      "outputs": []
    },
    {
      "cell_type": "code",
      "metadata": {
        "colab": {
          "base_uri": "https://localhost:8080/"
        },
        "id": "BEYzQa3MGzbr",
        "outputId": "7bb2ada9-1656-4397-a727-fc3856178f04"
      },
      "source": [
        "model_score(loaded_model)"
      ],
      "execution_count": 127,
      "outputs": [
        {
          "output_type": "stream",
          "text": [
            "ROC score 0.841\n",
            "Accuracy 0.952\n",
            "f1 0.930\n",
            "Recall 0.952\n",
            "Precision 0.955\n",
            "\n"
          ],
          "name": "stdout"
        }
      ]
    },
    {
      "cell_type": "markdown",
      "metadata": {
        "id": "ZLux8vRgQseV"
      },
      "source": [
        "Catboost Classifier Testing"
      ]
    },
    {
      "cell_type": "code",
      "metadata": {
        "colab": {
          "base_uri": "https://localhost:8080/",
          "height": 451
        },
        "id": "hSkOYhowRANN",
        "outputId": "1fbc6278-dbeb-455d-c9b6-f95851586c36"
      },
      "source": [
        "df"
      ],
      "execution_count": 129,
      "outputs": [
        {
          "output_type": "execute_result",
          "data": {
            "text/html": [
              "<div>\n",
              "<style scoped>\n",
              "    .dataframe tbody tr th:only-of-type {\n",
              "        vertical-align: middle;\n",
              "    }\n",
              "\n",
              "    .dataframe tbody tr th {\n",
              "        vertical-align: top;\n",
              "    }\n",
              "\n",
              "    .dataframe thead th {\n",
              "        text-align: right;\n",
              "    }\n",
              "</style>\n",
              "<table border=\"1\" class=\"dataframe\">\n",
              "  <thead>\n",
              "    <tr style=\"text-align: right;\">\n",
              "      <th></th>\n",
              "      <th>age</th>\n",
              "      <th>hypertension</th>\n",
              "      <th>heart_disease</th>\n",
              "      <th>avg_glucose_level</th>\n",
              "      <th>bmi</th>\n",
              "      <th>stroke</th>\n",
              "      <th>gender_Female</th>\n",
              "      <th>gender_Male</th>\n",
              "      <th>ever_married_No</th>\n",
              "      <th>ever_married_Yes</th>\n",
              "      <th>work_type_Govt_job</th>\n",
              "      <th>work_type_Never_worked</th>\n",
              "      <th>work_type_Private</th>\n",
              "      <th>work_type_Self-employed</th>\n",
              "      <th>work_type_children</th>\n",
              "      <th>Residence_type_Rural</th>\n",
              "      <th>Residence_type_Urban</th>\n",
              "      <th>smoking_status_Unknown</th>\n",
              "      <th>smoking_status_formerly smoked</th>\n",
              "      <th>smoking_status_never smoked</th>\n",
              "      <th>smoking_status_smokes</th>\n",
              "    </tr>\n",
              "  </thead>\n",
              "  <tbody>\n",
              "    <tr>\n",
              "      <th>0</th>\n",
              "      <td>39.0</td>\n",
              "      <td>0</td>\n",
              "      <td>0</td>\n",
              "      <td>79.44</td>\n",
              "      <td>22.7</td>\n",
              "      <td>0</td>\n",
              "      <td>1</td>\n",
              "      <td>0</td>\n",
              "      <td>1</td>\n",
              "      <td>0</td>\n",
              "      <td>1</td>\n",
              "      <td>0</td>\n",
              "      <td>0</td>\n",
              "      <td>0</td>\n",
              "      <td>0</td>\n",
              "      <td>0</td>\n",
              "      <td>1</td>\n",
              "      <td>0</td>\n",
              "      <td>0</td>\n",
              "      <td>1</td>\n",
              "      <td>0</td>\n",
              "    </tr>\n",
              "    <tr>\n",
              "      <th>1</th>\n",
              "      <td>55.0</td>\n",
              "      <td>0</td>\n",
              "      <td>0</td>\n",
              "      <td>68.79</td>\n",
              "      <td>27.0</td>\n",
              "      <td>0</td>\n",
              "      <td>0</td>\n",
              "      <td>1</td>\n",
              "      <td>0</td>\n",
              "      <td>1</td>\n",
              "      <td>0</td>\n",
              "      <td>0</td>\n",
              "      <td>1</td>\n",
              "      <td>0</td>\n",
              "      <td>0</td>\n",
              "      <td>0</td>\n",
              "      <td>1</td>\n",
              "      <td>0</td>\n",
              "      <td>0</td>\n",
              "      <td>1</td>\n",
              "      <td>0</td>\n",
              "    </tr>\n",
              "    <tr>\n",
              "      <th>2</th>\n",
              "      <td>59.0</td>\n",
              "      <td>0</td>\n",
              "      <td>0</td>\n",
              "      <td>240.71</td>\n",
              "      <td>43.9</td>\n",
              "      <td>0</td>\n",
              "      <td>1</td>\n",
              "      <td>0</td>\n",
              "      <td>0</td>\n",
              "      <td>1</td>\n",
              "      <td>0</td>\n",
              "      <td>0</td>\n",
              "      <td>1</td>\n",
              "      <td>0</td>\n",
              "      <td>0</td>\n",
              "      <td>0</td>\n",
              "      <td>1</td>\n",
              "      <td>0</td>\n",
              "      <td>1</td>\n",
              "      <td>0</td>\n",
              "      <td>0</td>\n",
              "    </tr>\n",
              "    <tr>\n",
              "      <th>3</th>\n",
              "      <td>79.0</td>\n",
              "      <td>0</td>\n",
              "      <td>0</td>\n",
              "      <td>82.07</td>\n",
              "      <td>30.4</td>\n",
              "      <td>0</td>\n",
              "      <td>1</td>\n",
              "      <td>0</td>\n",
              "      <td>1</td>\n",
              "      <td>0</td>\n",
              "      <td>0</td>\n",
              "      <td>0</td>\n",
              "      <td>0</td>\n",
              "      <td>1</td>\n",
              "      <td>0</td>\n",
              "      <td>1</td>\n",
              "      <td>0</td>\n",
              "      <td>1</td>\n",
              "      <td>0</td>\n",
              "      <td>0</td>\n",
              "      <td>0</td>\n",
              "    </tr>\n",
              "    <tr>\n",
              "      <th>4</th>\n",
              "      <td>75.0</td>\n",
              "      <td>0</td>\n",
              "      <td>0</td>\n",
              "      <td>68.38</td>\n",
              "      <td>33.8</td>\n",
              "      <td>0</td>\n",
              "      <td>1</td>\n",
              "      <td>0</td>\n",
              "      <td>0</td>\n",
              "      <td>1</td>\n",
              "      <td>0</td>\n",
              "      <td>0</td>\n",
              "      <td>1</td>\n",
              "      <td>0</td>\n",
              "      <td>0</td>\n",
              "      <td>1</td>\n",
              "      <td>0</td>\n",
              "      <td>1</td>\n",
              "      <td>0</td>\n",
              "      <td>0</td>\n",
              "      <td>0</td>\n",
              "    </tr>\n",
              "    <tr>\n",
              "      <th>...</th>\n",
              "      <td>...</td>\n",
              "      <td>...</td>\n",
              "      <td>...</td>\n",
              "      <td>...</td>\n",
              "      <td>...</td>\n",
              "      <td>...</td>\n",
              "      <td>...</td>\n",
              "      <td>...</td>\n",
              "      <td>...</td>\n",
              "      <td>...</td>\n",
              "      <td>...</td>\n",
              "      <td>...</td>\n",
              "      <td>...</td>\n",
              "      <td>...</td>\n",
              "      <td>...</td>\n",
              "      <td>...</td>\n",
              "      <td>...</td>\n",
              "      <td>...</td>\n",
              "      <td>...</td>\n",
              "      <td>...</td>\n",
              "      <td>...</td>\n",
              "    </tr>\n",
              "    <tr>\n",
              "      <th>3827</th>\n",
              "      <td>45.0</td>\n",
              "      <td>0</td>\n",
              "      <td>0</td>\n",
              "      <td>92.86</td>\n",
              "      <td>35.1</td>\n",
              "      <td>0</td>\n",
              "      <td>1</td>\n",
              "      <td>0</td>\n",
              "      <td>0</td>\n",
              "      <td>1</td>\n",
              "      <td>0</td>\n",
              "      <td>0</td>\n",
              "      <td>1</td>\n",
              "      <td>0</td>\n",
              "      <td>0</td>\n",
              "      <td>0</td>\n",
              "      <td>1</td>\n",
              "      <td>0</td>\n",
              "      <td>1</td>\n",
              "      <td>0</td>\n",
              "      <td>0</td>\n",
              "    </tr>\n",
              "    <tr>\n",
              "      <th>3828</th>\n",
              "      <td>16.0</td>\n",
              "      <td>0</td>\n",
              "      <td>0</td>\n",
              "      <td>113.47</td>\n",
              "      <td>19.5</td>\n",
              "      <td>0</td>\n",
              "      <td>1</td>\n",
              "      <td>0</td>\n",
              "      <td>1</td>\n",
              "      <td>0</td>\n",
              "      <td>0</td>\n",
              "      <td>0</td>\n",
              "      <td>0</td>\n",
              "      <td>0</td>\n",
              "      <td>1</td>\n",
              "      <td>1</td>\n",
              "      <td>0</td>\n",
              "      <td>1</td>\n",
              "      <td>0</td>\n",
              "      <td>0</td>\n",
              "      <td>0</td>\n",
              "    </tr>\n",
              "    <tr>\n",
              "      <th>3829</th>\n",
              "      <td>61.0</td>\n",
              "      <td>0</td>\n",
              "      <td>0</td>\n",
              "      <td>78.65</td>\n",
              "      <td>36.2</td>\n",
              "      <td>0</td>\n",
              "      <td>1</td>\n",
              "      <td>0</td>\n",
              "      <td>0</td>\n",
              "      <td>1</td>\n",
              "      <td>0</td>\n",
              "      <td>0</td>\n",
              "      <td>1</td>\n",
              "      <td>0</td>\n",
              "      <td>0</td>\n",
              "      <td>1</td>\n",
              "      <td>0</td>\n",
              "      <td>0</td>\n",
              "      <td>1</td>\n",
              "      <td>0</td>\n",
              "      <td>0</td>\n",
              "    </tr>\n",
              "    <tr>\n",
              "      <th>3830</th>\n",
              "      <td>31.0</td>\n",
              "      <td>0</td>\n",
              "      <td>0</td>\n",
              "      <td>74.05</td>\n",
              "      <td>26.0</td>\n",
              "      <td>0</td>\n",
              "      <td>0</td>\n",
              "      <td>1</td>\n",
              "      <td>0</td>\n",
              "      <td>1</td>\n",
              "      <td>0</td>\n",
              "      <td>0</td>\n",
              "      <td>1</td>\n",
              "      <td>0</td>\n",
              "      <td>0</td>\n",
              "      <td>0</td>\n",
              "      <td>1</td>\n",
              "      <td>1</td>\n",
              "      <td>0</td>\n",
              "      <td>0</td>\n",
              "      <td>0</td>\n",
              "    </tr>\n",
              "    <tr>\n",
              "      <th>3831</th>\n",
              "      <td>6.0</td>\n",
              "      <td>0</td>\n",
              "      <td>0</td>\n",
              "      <td>91.05</td>\n",
              "      <td>22.1</td>\n",
              "      <td>0</td>\n",
              "      <td>1</td>\n",
              "      <td>0</td>\n",
              "      <td>1</td>\n",
              "      <td>0</td>\n",
              "      <td>0</td>\n",
              "      <td>0</td>\n",
              "      <td>0</td>\n",
              "      <td>0</td>\n",
              "      <td>1</td>\n",
              "      <td>0</td>\n",
              "      <td>1</td>\n",
              "      <td>1</td>\n",
              "      <td>0</td>\n",
              "      <td>0</td>\n",
              "      <td>0</td>\n",
              "    </tr>\n",
              "  </tbody>\n",
              "</table>\n",
              "<p>3832 rows × 21 columns</p>\n",
              "</div>"
            ],
            "text/plain": [
              "       age  hypertension  ...  smoking_status_never smoked  smoking_status_smokes\n",
              "0     39.0             0  ...                            1                      0\n",
              "1     55.0             0  ...                            1                      0\n",
              "2     59.0             0  ...                            0                      0\n",
              "3     79.0             0  ...                            0                      0\n",
              "4     75.0             0  ...                            0                      0\n",
              "...    ...           ...  ...                          ...                    ...\n",
              "3827  45.0             0  ...                            0                      0\n",
              "3828  16.0             0  ...                            0                      0\n",
              "3829  61.0             0  ...                            0                      0\n",
              "3830  31.0             0  ...                            0                      0\n",
              "3831   6.0             0  ...                            0                      0\n",
              "\n",
              "[3832 rows x 21 columns]"
            ]
          },
          "metadata": {
            "tags": []
          },
          "execution_count": 129
        }
      ]
    },
    {
      "cell_type": "code",
      "metadata": {
        "colab": {
          "base_uri": "https://localhost:8080/"
        },
        "id": "vNE8Nc2lReAr",
        "outputId": "f7422c93-7481-4e54-d49d-ac24a6592160"
      },
      "source": [
        "df.columns"
      ],
      "execution_count": 130,
      "outputs": [
        {
          "output_type": "execute_result",
          "data": {
            "text/plain": [
              "Index(['age', 'hypertension', 'heart_disease', 'avg_glucose_level', 'bmi',\n",
              "       'stroke', 'gender_Female', 'gender_Male', 'ever_married_No',\n",
              "       'ever_married_Yes', 'work_type_Govt_job', 'work_type_Never_worked',\n",
              "       'work_type_Private', 'work_type_Self-employed', 'work_type_children',\n",
              "       'Residence_type_Rural', 'Residence_type_Urban',\n",
              "       'smoking_status_Unknown', 'smoking_status_formerly smoked',\n",
              "       'smoking_status_never smoked', 'smoking_status_smokes'],\n",
              "      dtype='object')"
            ]
          },
          "metadata": {
            "tags": []
          },
          "execution_count": 130
        }
      ]
    },
    {
      "cell_type": "code",
      "metadata": {
        "id": "GtMfS35RRVbf"
      },
      "source": [
        "cat_features = ['hypertension', 'heart_disease', 'gender_Female', 'gender_Male', 'ever_married_No',\n",
        "       'ever_married_Yes', 'work_type_Govt_job', 'work_type_Never_worked',\n",
        "       'work_type_Private', 'work_type_Self-employed', 'work_type_children',\n",
        "       'Residence_type_Rural', 'Residence_type_Urban',\n",
        "       'smoking_status_Unknown', 'smoking_status_formerly smoked',\n",
        "       'smoking_status_never smoked', 'smoking_status_smokes']"
      ],
      "execution_count": 131,
      "outputs": []
    },
    {
      "cell_type": "code",
      "metadata": {
        "colab": {
          "base_uri": "https://localhost:8080/"
        },
        "id": "0o8T6fk0RryR",
        "outputId": "52f8291d-5cba-45e5-8416-32406bb34a2a"
      },
      "source": [
        "! pip install catboost"
      ],
      "execution_count": 132,
      "outputs": [
        {
          "output_type": "stream",
          "text": [
            "Collecting catboost\n",
            "  Downloading catboost-0.26.1-cp37-none-manylinux1_x86_64.whl (67.4 MB)\n",
            "\u001b[K     |████████████████████████████████| 67.4 MB 27 kB/s \n",
            "\u001b[?25hRequirement already satisfied: six in /usr/local/lib/python3.7/dist-packages (from catboost) (1.15.0)\n",
            "Requirement already satisfied: graphviz in /usr/local/lib/python3.7/dist-packages (from catboost) (0.10.1)\n",
            "Requirement already satisfied: scipy in /usr/local/lib/python3.7/dist-packages (from catboost) (1.4.1)\n",
            "Requirement already satisfied: plotly in /usr/local/lib/python3.7/dist-packages (from catboost) (4.4.1)\n",
            "Requirement already satisfied: pandas>=0.24.0 in /usr/local/lib/python3.7/dist-packages (from catboost) (1.1.5)\n",
            "Requirement already satisfied: matplotlib in /usr/local/lib/python3.7/dist-packages (from catboost) (3.2.2)\n",
            "Requirement already satisfied: numpy>=1.16.0 in /usr/local/lib/python3.7/dist-packages (from catboost) (1.19.5)\n",
            "Requirement already satisfied: pytz>=2017.2 in /usr/local/lib/python3.7/dist-packages (from pandas>=0.24.0->catboost) (2018.9)\n",
            "Requirement already satisfied: python-dateutil>=2.7.3 in /usr/local/lib/python3.7/dist-packages (from pandas>=0.24.0->catboost) (2.8.2)\n",
            "Requirement already satisfied: cycler>=0.10 in /usr/local/lib/python3.7/dist-packages (from matplotlib->catboost) (0.10.0)\n",
            "Requirement already satisfied: kiwisolver>=1.0.1 in /usr/local/lib/python3.7/dist-packages (from matplotlib->catboost) (1.3.1)\n",
            "Requirement already satisfied: pyparsing!=2.0.4,!=2.1.2,!=2.1.6,>=2.0.1 in /usr/local/lib/python3.7/dist-packages (from matplotlib->catboost) (2.4.7)\n",
            "Requirement already satisfied: retrying>=1.3.3 in /usr/local/lib/python3.7/dist-packages (from plotly->catboost) (1.3.3)\n",
            "Installing collected packages: catboost\n",
            "Successfully installed catboost-0.26.1\n"
          ],
          "name": "stdout"
        }
      ]
    },
    {
      "cell_type": "code",
      "metadata": {
        "colab": {
          "base_uri": "https://localhost:8080/"
        },
        "id": "MXbVd8FhG09d",
        "outputId": "a573cdb7-96e4-48b7-9db8-d28c56208df2"
      },
      "source": [
        "from catboost import CatBoostClassifier\n",
        "clf = CatBoostClassifier(\n",
        "    iterations=100,\n",
        ")\n",
        "\n",
        "\n",
        "clf.fit(\n",
        "    X_train, y_train,\n",
        "    cat_features=cat_features,\n",
        "    eval_set=(X_test, y_test),\n",
        ")"
      ],
      "execution_count": 136,
      "outputs": [
        {
          "output_type": "stream",
          "text": [
            "Learning rate set to 0.113778\n",
            "0:\tlearn: 0.5163550\ttest: 0.5177935\tbest: 0.5177935 (0)\ttotal: 2.85ms\tremaining: 283ms\n",
            "1:\tlearn: 0.4193709\ttest: 0.4210284\tbest: 0.4210284 (1)\ttotal: 5.72ms\tremaining: 280ms\n",
            "2:\tlearn: 0.3425561\ttest: 0.3422662\tbest: 0.3422662 (2)\ttotal: 8.88ms\tremaining: 287ms\n",
            "3:\tlearn: 0.2947274\ttest: 0.2964628\tbest: 0.2964628 (3)\ttotal: 11.7ms\tremaining: 280ms\n",
            "4:\tlearn: 0.2646433\ttest: 0.2662796\tbest: 0.2662796 (4)\ttotal: 16.2ms\tremaining: 308ms\n",
            "5:\tlearn: 0.2326303\ttest: 0.2352189\tbest: 0.2352189 (5)\ttotal: 20.4ms\tremaining: 319ms\n",
            "6:\tlearn: 0.2151903\ttest: 0.2182179\tbest: 0.2182179 (6)\ttotal: 24.9ms\tremaining: 330ms\n",
            "7:\tlearn: 0.2046411\ttest: 0.2076103\tbest: 0.2076103 (7)\ttotal: 26.6ms\tremaining: 306ms\n",
            "8:\tlearn: 0.1890220\ttest: 0.1934256\tbest: 0.1934256 (8)\ttotal: 30.1ms\tremaining: 305ms\n",
            "9:\tlearn: 0.1785712\ttest: 0.1839145\tbest: 0.1839145 (9)\ttotal: 33.2ms\tremaining: 299ms\n",
            "10:\tlearn: 0.1709101\ttest: 0.1788489\tbest: 0.1788489 (10)\ttotal: 36ms\tremaining: 292ms\n",
            "11:\tlearn: 0.1682803\ttest: 0.1760955\tbest: 0.1760955 (11)\ttotal: 38.6ms\tremaining: 283ms\n",
            "12:\tlearn: 0.1627241\ttest: 0.1724336\tbest: 0.1724336 (12)\ttotal: 41.4ms\tremaining: 277ms\n",
            "13:\tlearn: 0.1583060\ttest: 0.1708790\tbest: 0.1708790 (13)\ttotal: 44.2ms\tremaining: 271ms\n",
            "14:\tlearn: 0.1556270\ttest: 0.1694128\tbest: 0.1694128 (14)\ttotal: 46.9ms\tremaining: 266ms\n",
            "15:\tlearn: 0.1528225\ttest: 0.1677611\tbest: 0.1677611 (15)\ttotal: 49.5ms\tremaining: 260ms\n",
            "16:\tlearn: 0.1500609\ttest: 0.1667915\tbest: 0.1667915 (16)\ttotal: 52.3ms\tremaining: 255ms\n",
            "17:\tlearn: 0.1471665\ttest: 0.1667967\tbest: 0.1667915 (16)\ttotal: 55.1ms\tremaining: 251ms\n",
            "18:\tlearn: 0.1444299\ttest: 0.1649296\tbest: 0.1649296 (18)\ttotal: 57.9ms\tremaining: 247ms\n",
            "19:\tlearn: 0.1409480\ttest: 0.1636164\tbest: 0.1636164 (19)\ttotal: 60.7ms\tremaining: 243ms\n",
            "20:\tlearn: 0.1385871\ttest: 0.1627352\tbest: 0.1627352 (20)\ttotal: 63.5ms\tremaining: 239ms\n",
            "21:\tlearn: 0.1371679\ttest: 0.1626801\tbest: 0.1626801 (21)\ttotal: 66.2ms\tremaining: 235ms\n",
            "22:\tlearn: 0.1352406\ttest: 0.1620974\tbest: 0.1620974 (22)\ttotal: 68.9ms\tremaining: 231ms\n",
            "23:\tlearn: 0.1335836\ttest: 0.1620000\tbest: 0.1620000 (23)\ttotal: 71.6ms\tremaining: 227ms\n",
            "24:\tlearn: 0.1324883\ttest: 0.1618676\tbest: 0.1618676 (24)\ttotal: 74.5ms\tremaining: 224ms\n",
            "25:\tlearn: 0.1307554\ttest: 0.1625458\tbest: 0.1618676 (24)\ttotal: 77.6ms\tremaining: 221ms\n",
            "26:\tlearn: 0.1297242\ttest: 0.1635069\tbest: 0.1618676 (24)\ttotal: 80.6ms\tremaining: 218ms\n",
            "27:\tlearn: 0.1291793\ttest: 0.1635465\tbest: 0.1618676 (24)\ttotal: 83.6ms\tremaining: 215ms\n",
            "28:\tlearn: 0.1278857\ttest: 0.1644240\tbest: 0.1618676 (24)\ttotal: 86.6ms\tremaining: 212ms\n",
            "29:\tlearn: 0.1263561\ttest: 0.1642872\tbest: 0.1618676 (24)\ttotal: 89.7ms\tremaining: 209ms\n",
            "30:\tlearn: 0.1248645\ttest: 0.1646879\tbest: 0.1618676 (24)\ttotal: 92.7ms\tremaining: 206ms\n",
            "31:\tlearn: 0.1230303\ttest: 0.1644054\tbest: 0.1618676 (24)\ttotal: 95.8ms\tremaining: 204ms\n",
            "32:\tlearn: 0.1216638\ttest: 0.1655279\tbest: 0.1618676 (24)\ttotal: 98.9ms\tremaining: 201ms\n",
            "33:\tlearn: 0.1205537\ttest: 0.1656685\tbest: 0.1618676 (24)\ttotal: 102ms\tremaining: 198ms\n",
            "34:\tlearn: 0.1196436\ttest: 0.1662258\tbest: 0.1618676 (24)\ttotal: 105ms\tremaining: 195ms\n",
            "35:\tlearn: 0.1184394\ttest: 0.1651674\tbest: 0.1618676 (24)\ttotal: 108ms\tremaining: 192ms\n",
            "36:\tlearn: 0.1175916\ttest: 0.1652313\tbest: 0.1618676 (24)\ttotal: 111ms\tremaining: 189ms\n",
            "37:\tlearn: 0.1166383\ttest: 0.1650369\tbest: 0.1618676 (24)\ttotal: 114ms\tremaining: 186ms\n",
            "38:\tlearn: 0.1154184\ttest: 0.1649480\tbest: 0.1618676 (24)\ttotal: 117ms\tremaining: 183ms\n",
            "39:\tlearn: 0.1143535\ttest: 0.1647040\tbest: 0.1618676 (24)\ttotal: 120ms\tremaining: 180ms\n",
            "40:\tlearn: 0.1138837\ttest: 0.1646537\tbest: 0.1618676 (24)\ttotal: 123ms\tremaining: 178ms\n",
            "41:\tlearn: 0.1128152\ttest: 0.1652791\tbest: 0.1618676 (24)\ttotal: 126ms\tremaining: 175ms\n",
            "42:\tlearn: 0.1116725\ttest: 0.1655578\tbest: 0.1618676 (24)\ttotal: 130ms\tremaining: 172ms\n",
            "43:\tlearn: 0.1111934\ttest: 0.1653261\tbest: 0.1618676 (24)\ttotal: 132ms\tremaining: 168ms\n",
            "44:\tlearn: 0.1104118\ttest: 0.1651466\tbest: 0.1618676 (24)\ttotal: 135ms\tremaining: 166ms\n",
            "45:\tlearn: 0.1098402\ttest: 0.1647673\tbest: 0.1618676 (24)\ttotal: 139ms\tremaining: 163ms\n",
            "46:\tlearn: 0.1088998\ttest: 0.1652448\tbest: 0.1618676 (24)\ttotal: 142ms\tremaining: 160ms\n",
            "47:\tlearn: 0.1085456\ttest: 0.1649940\tbest: 0.1618676 (24)\ttotal: 145ms\tremaining: 157ms\n",
            "48:\tlearn: 0.1076833\ttest: 0.1656408\tbest: 0.1618676 (24)\ttotal: 148ms\tremaining: 154ms\n",
            "49:\tlearn: 0.1069614\ttest: 0.1662406\tbest: 0.1618676 (24)\ttotal: 151ms\tremaining: 151ms\n",
            "50:\tlearn: 0.1064430\ttest: 0.1662277\tbest: 0.1618676 (24)\ttotal: 154ms\tremaining: 148ms\n",
            "51:\tlearn: 0.1050951\ttest: 0.1655252\tbest: 0.1618676 (24)\ttotal: 157ms\tremaining: 145ms\n",
            "52:\tlearn: 0.1043657\ttest: 0.1660506\tbest: 0.1618676 (24)\ttotal: 160ms\tremaining: 142ms\n",
            "53:\tlearn: 0.1040707\ttest: 0.1664127\tbest: 0.1618676 (24)\ttotal: 163ms\tremaining: 139ms\n",
            "54:\tlearn: 0.1034633\ttest: 0.1664187\tbest: 0.1618676 (24)\ttotal: 166ms\tremaining: 136ms\n",
            "55:\tlearn: 0.1029850\ttest: 0.1669174\tbest: 0.1618676 (24)\ttotal: 169ms\tremaining: 133ms\n",
            "56:\tlearn: 0.1026250\ttest: 0.1666872\tbest: 0.1618676 (24)\ttotal: 171ms\tremaining: 129ms\n",
            "57:\tlearn: 0.1023816\ttest: 0.1666731\tbest: 0.1618676 (24)\ttotal: 175ms\tremaining: 126ms\n",
            "58:\tlearn: 0.1017145\ttest: 0.1667035\tbest: 0.1618676 (24)\ttotal: 178ms\tremaining: 123ms\n",
            "59:\tlearn: 0.1009257\ttest: 0.1669352\tbest: 0.1618676 (24)\ttotal: 181ms\tremaining: 121ms\n",
            "60:\tlearn: 0.1003162\ttest: 0.1674260\tbest: 0.1618676 (24)\ttotal: 188ms\tremaining: 120ms\n",
            "61:\tlearn: 0.0996568\ttest: 0.1675291\tbest: 0.1618676 (24)\ttotal: 191ms\tremaining: 117ms\n",
            "62:\tlearn: 0.0993051\ttest: 0.1677406\tbest: 0.1618676 (24)\ttotal: 194ms\tremaining: 114ms\n",
            "63:\tlearn: 0.0985517\ttest: 0.1688679\tbest: 0.1618676 (24)\ttotal: 197ms\tremaining: 111ms\n",
            "64:\tlearn: 0.0979523\ttest: 0.1694265\tbest: 0.1618676 (24)\ttotal: 200ms\tremaining: 108ms\n",
            "65:\tlearn: 0.0974301\ttest: 0.1702961\tbest: 0.1618676 (24)\ttotal: 202ms\tremaining: 104ms\n",
            "66:\tlearn: 0.0966747\ttest: 0.1699126\tbest: 0.1618676 (24)\ttotal: 205ms\tremaining: 101ms\n",
            "67:\tlearn: 0.0966263\ttest: 0.1699444\tbest: 0.1618676 (24)\ttotal: 208ms\tremaining: 97.8ms\n",
            "68:\tlearn: 0.0960491\ttest: 0.1697124\tbest: 0.1618676 (24)\ttotal: 211ms\tremaining: 94.7ms\n",
            "69:\tlearn: 0.0954301\ttest: 0.1698296\tbest: 0.1618676 (24)\ttotal: 214ms\tremaining: 91.7ms\n",
            "70:\tlearn: 0.0947254\ttest: 0.1706466\tbest: 0.1618676 (24)\ttotal: 217ms\tremaining: 88.6ms\n",
            "71:\tlearn: 0.0942200\ttest: 0.1709089\tbest: 0.1618676 (24)\ttotal: 220ms\tremaining: 85.5ms\n",
            "72:\tlearn: 0.0933726\ttest: 0.1709422\tbest: 0.1618676 (24)\ttotal: 223ms\tremaining: 82.4ms\n",
            "73:\tlearn: 0.0925459\ttest: 0.1707982\tbest: 0.1618676 (24)\ttotal: 226ms\tremaining: 79.3ms\n",
            "74:\tlearn: 0.0919635\ttest: 0.1708818\tbest: 0.1618676 (24)\ttotal: 229ms\tremaining: 76.2ms\n",
            "75:\tlearn: 0.0916148\ttest: 0.1706986\tbest: 0.1618676 (24)\ttotal: 232ms\tremaining: 73.2ms\n",
            "76:\tlearn: 0.0910014\ttest: 0.1715677\tbest: 0.1618676 (24)\ttotal: 236ms\tremaining: 70.5ms\n",
            "77:\tlearn: 0.0903181\ttest: 0.1719867\tbest: 0.1618676 (24)\ttotal: 239ms\tremaining: 67.4ms\n",
            "78:\tlearn: 0.0893489\ttest: 0.1713063\tbest: 0.1618676 (24)\ttotal: 242ms\tremaining: 64.4ms\n",
            "79:\tlearn: 0.0887503\ttest: 0.1710554\tbest: 0.1618676 (24)\ttotal: 245ms\tremaining: 61.3ms\n",
            "80:\tlearn: 0.0881366\ttest: 0.1714982\tbest: 0.1618676 (24)\ttotal: 248ms\tremaining: 58.2ms\n",
            "81:\tlearn: 0.0876649\ttest: 0.1719275\tbest: 0.1618676 (24)\ttotal: 251ms\tremaining: 55.1ms\n",
            "82:\tlearn: 0.0871070\ttest: 0.1723487\tbest: 0.1618676 (24)\ttotal: 254ms\tremaining: 52.1ms\n",
            "83:\tlearn: 0.0867437\ttest: 0.1725313\tbest: 0.1618676 (24)\ttotal: 257ms\tremaining: 49ms\n",
            "84:\tlearn: 0.0859718\ttest: 0.1729386\tbest: 0.1618676 (24)\ttotal: 260ms\tremaining: 45.9ms\n",
            "85:\tlearn: 0.0853285\ttest: 0.1728762\tbest: 0.1618676 (24)\ttotal: 263ms\tremaining: 42.8ms\n",
            "86:\tlearn: 0.0848548\ttest: 0.1727593\tbest: 0.1618676 (24)\ttotal: 266ms\tremaining: 39.8ms\n",
            "87:\tlearn: 0.0842971\ttest: 0.1729824\tbest: 0.1618676 (24)\ttotal: 269ms\tremaining: 36.7ms\n",
            "88:\tlearn: 0.0837808\ttest: 0.1735435\tbest: 0.1618676 (24)\ttotal: 272ms\tremaining: 33.6ms\n",
            "89:\tlearn: 0.0832309\ttest: 0.1734729\tbest: 0.1618676 (24)\ttotal: 275ms\tremaining: 30.6ms\n",
            "90:\tlearn: 0.0827056\ttest: 0.1743223\tbest: 0.1618676 (24)\ttotal: 279ms\tremaining: 27.6ms\n",
            "91:\tlearn: 0.0824602\ttest: 0.1742418\tbest: 0.1618676 (24)\ttotal: 282ms\tremaining: 24.5ms\n",
            "92:\tlearn: 0.0816523\ttest: 0.1742797\tbest: 0.1618676 (24)\ttotal: 285ms\tremaining: 21.5ms\n",
            "93:\tlearn: 0.0811631\ttest: 0.1742663\tbest: 0.1618676 (24)\ttotal: 288ms\tremaining: 18.4ms\n",
            "94:\tlearn: 0.0807185\ttest: 0.1749837\tbest: 0.1618676 (24)\ttotal: 291ms\tremaining: 15.3ms\n",
            "95:\tlearn: 0.0800360\ttest: 0.1755705\tbest: 0.1618676 (24)\ttotal: 294ms\tremaining: 12.3ms\n",
            "96:\tlearn: 0.0794435\ttest: 0.1749391\tbest: 0.1618676 (24)\ttotal: 297ms\tremaining: 9.2ms\n",
            "97:\tlearn: 0.0790699\ttest: 0.1755896\tbest: 0.1618676 (24)\ttotal: 301ms\tremaining: 6.13ms\n",
            "98:\tlearn: 0.0787717\ttest: 0.1759457\tbest: 0.1618676 (24)\ttotal: 305ms\tremaining: 3.08ms\n",
            "99:\tlearn: 0.0779422\ttest: 0.1765398\tbest: 0.1618676 (24)\ttotal: 308ms\tremaining: 0us\n",
            "\n",
            "bestTest = 0.161867626\n",
            "bestIteration = 24\n",
            "\n",
            "Shrink model to first 25 iterations.\n"
          ],
          "name": "stdout"
        },
        {
          "output_type": "execute_result",
          "data": {
            "text/plain": [
              "<catboost.core.CatBoostClassifier at 0x7fdf19484890>"
            ]
          },
          "metadata": {
            "tags": []
          },
          "execution_count": 136
        }
      ]
    },
    {
      "cell_type": "code",
      "metadata": {
        "id": "3meNWVRbR89D"
      },
      "source": [
        "def model_score(model):\n",
        "  y_pred = model.predict(X_val)\n",
        "  try:\n",
        "    score  = model.predict_proba(X_val)[:, 1]\n",
        "    roc = roc_auc_score(y_val, score, average ='weighted')\n",
        "  except:\n",
        "    roc = 0\n",
        "  print('ROC score {:.3f}'.format(roc))\n",
        "  print('Accuracy {:.3f}'.format(accuracy_score(y_val,y_pred)))\n",
        "  print('f1 {:.3f}'.format(f1_score(y_val,y_pred, average = \"weighted\")))\n",
        "  print('Recall {:.3f}'.format(recall_score(y_val,y_pred, average = \"weighted\")))\n",
        "  print('Precision {:.3f}'.format(precision_score(y_val,y_pred, average = \"weighted\")))\n",
        "  print()"
      ],
      "execution_count": null,
      "outputs": []
    },
    {
      "cell_type": "code",
      "metadata": {
        "id": "ow-t1pXJSUs3"
      },
      "source": [
        "def model_score2(model, name):\n",
        "  y_pred = model.predict(X_test)\n",
        "  try:\n",
        "    score  = model.predict_proba(X_test)[:, 1]\n",
        "    roc = roc_auc_score(y_test, score, average ='weighted')\n",
        "  except:\n",
        "    roc = 0\n",
        "  print(f'{name}:')\n",
        "  print(f'ROC score {roc}')\n",
        "  print(f'Accuracy {accuracy_score(y_test,y_pred)}')\n",
        "  print(f'f1 {f1_score(y_test,y_pred, average = \"weighted\")}')\n",
        "  print(f'Recall {recall_score(y_test,y_pred, average = \"weighted\")}')\n",
        "  print(f'Precision {precision_score(y_test,y_pred, average = \"weighted\")}')\n",
        "  print()"
      ],
      "execution_count": 134,
      "outputs": []
    },
    {
      "cell_type": "code",
      "metadata": {
        "colab": {
          "base_uri": "https://localhost:8080/"
        },
        "id": "QbrbMoN7Si76",
        "outputId": "3a2636a3-3b7f-42e4-e62c-559bef5996b2"
      },
      "source": [
        "model_score2(clf, 'Catboost')"
      ],
      "execution_count": 137,
      "outputs": [
        {
          "output_type": "stream",
          "text": [
            "Catboost:\n",
            "ROC score 0.8307293594964827\n",
            "Accuracy 0.9517601043024772\n",
            "f1 0.9282363074693499\n",
            "Recall 0.9517601043024772\n",
            "Precision 0.9058472961418623\n",
            "\n"
          ],
          "name": "stdout"
        }
      ]
    },
    {
      "cell_type": "code",
      "metadata": {
        "id": "qlCBP_teS8uf"
      },
      "source": [
        "# LogisticRegression:\n",
        "# ROC score 0.845353572750833\n",
        "# Accuracy 0.9517601043024772\n",
        "# f1 0.9282363074693499\n",
        "# Recall 0.9517601043024772\n",
        "# Precision 0.9058472961418623"
      ],
      "execution_count": null,
      "outputs": []
    }
  ]
}