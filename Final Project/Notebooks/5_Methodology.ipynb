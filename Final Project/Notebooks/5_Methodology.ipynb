{
  "nbformat": 4,
  "nbformat_minor": 0,
  "metadata": {
    "colab": {
      "name": "Methodology.ipynb",
      "provenance": [],
      "collapsed_sections": []
    },
    "kernelspec": {
      "display_name": "Python 3",
      "name": "python3"
    },
    "language_info": {
      "name": "python"
    }
  },
  "cells": [
    {
      "cell_type": "code",
      "metadata": {
        "colab": {
          "base_uri": "https://localhost:8080/"
        },
        "id": "1JPhaUwadCZ6",
        "outputId": "51df843c-7649-4634-a389-4d8db11da4fc"
      },
      "source": [
        "! pip install catboost"
      ],
      "execution_count": 269,
      "outputs": [
        {
          "output_type": "stream",
          "text": [
            "Requirement already satisfied: catboost in /usr/local/lib/python3.7/dist-packages (0.26.1)\n",
            "Requirement already satisfied: scipy in /usr/local/lib/python3.7/dist-packages (from catboost) (1.4.1)\n",
            "Requirement already satisfied: graphviz in /usr/local/lib/python3.7/dist-packages (from catboost) (0.10.1)\n",
            "Requirement already satisfied: pandas>=0.24.0 in /usr/local/lib/python3.7/dist-packages (from catboost) (1.1.5)\n",
            "Requirement already satisfied: numpy>=1.16.0 in /usr/local/lib/python3.7/dist-packages (from catboost) (1.19.5)\n",
            "Requirement already satisfied: matplotlib in /usr/local/lib/python3.7/dist-packages (from catboost) (3.2.2)\n",
            "Requirement already satisfied: plotly in /usr/local/lib/python3.7/dist-packages (from catboost) (4.4.1)\n",
            "Requirement already satisfied: six in /usr/local/lib/python3.7/dist-packages (from catboost) (1.15.0)\n",
            "Requirement already satisfied: pytz>=2017.2 in /usr/local/lib/python3.7/dist-packages (from pandas>=0.24.0->catboost) (2018.9)\n",
            "Requirement already satisfied: python-dateutil>=2.7.3 in /usr/local/lib/python3.7/dist-packages (from pandas>=0.24.0->catboost) (2.8.2)\n",
            "Requirement already satisfied: pyparsing!=2.0.4,!=2.1.2,!=2.1.6,>=2.0.1 in /usr/local/lib/python3.7/dist-packages (from matplotlib->catboost) (2.4.7)\n",
            "Requirement already satisfied: kiwisolver>=1.0.1 in /usr/local/lib/python3.7/dist-packages (from matplotlib->catboost) (1.3.1)\n",
            "Requirement already satisfied: cycler>=0.10 in /usr/local/lib/python3.7/dist-packages (from matplotlib->catboost) (0.10.0)\n",
            "Requirement already satisfied: retrying>=1.3.3 in /usr/local/lib/python3.7/dist-packages (from plotly->catboost) (1.3.3)\n"
          ],
          "name": "stdout"
        }
      ]
    },
    {
      "cell_type": "code",
      "metadata": {
        "id": "9AlHu6_wCa0g"
      },
      "source": [
        "import pandas as pd \n",
        "import numpy as np \n",
        "import matplotlib.pyplot as plt \n",
        "import seaborn as sns\n",
        "\n",
        "from sklearn.metrics import classification_report\n",
        "from sklearn import preprocessing\n",
        "from sklearn.model_selection import train_test_split\n",
        "\n",
        "from sklearn.metrics import roc_auc_score\n",
        "from sklearn.dummy import DummyClassifier\n",
        "from sklearn.model_selection import cross_val_score\n",
        "# from pandas_profiling import ProfileReport\n",
        "\n",
        "#model\n",
        "from sklearn.naive_bayes import GaussianNB\n",
        "from sklearn.linear_model import LogisticRegression\n",
        "from sklearn.neighbors import KNeighborsClassifier\n",
        "from sklearn.svm import SVC\n",
        "from sklearn.tree import DecisionTreeClassifier\n",
        "from sklearn.ensemble import BaggingClassifier\n",
        "from sklearn.ensemble import AdaBoostClassifier #boosted decision tree\n",
        "from sklearn.ensemble import RandomForestClassifier\n",
        "from catboost import CatBoostClassifier\n",
        "# from sklearn.ensemble import VotingClassifier\n",
        "\n",
        "#scoring\n",
        "from sklearn.metrics import roc_auc_score\n",
        "from sklearn.metrics import accuracy_score\n",
        "from sklearn.metrics import f1_score\n",
        "from sklearn.metrics import recall_score\n",
        "from sklearn.metrics import precision_score\n",
        "\n",
        "from sklearn.model_selection import GridSearchCV\n",
        "from sklearn.model_selection import RandomizedSearchCV\n",
        "import missingno as msno\n",
        "\n",
        "import warnings\n",
        "warnings.filterwarnings(\"ignore\")"
      ],
      "execution_count": 270,
      "outputs": []
    },
    {
      "cell_type": "code",
      "metadata": {
        "id": "FP_wO14rHXjn"
      },
      "source": [
        "# df = pd.read_csv(\"df_train2.csv\")\n",
        "# df_stand = pd.read_csv(\"df_train_stand2.csv\")\n",
        "# df_val = pd.read_csv(\"df_val2.csv\")\n",
        "\n",
        "\n",
        "df = pd.read_csv(\"https://raw.githubusercontent.com/BryanT05/Machine-Learning-Bootcamp/main/Final%20Project/Preprocess%20Data/df_train.csv\")\n",
        "df_stand = pd.read_csv(\"https://raw.githubusercontent.com/BryanT05/Machine-Learning-Bootcamp/main/Final%20Project/Preprocess%20Data/df_train_stand.csv\")\n",
        "\n",
        "df_val = pd.read_csv(\"https://raw.githubusercontent.com/BryanT05/Machine-Learning-Bootcamp/main/Final%20Project/Preprocess%20Data/df_val.csv\")"
      ],
      "execution_count": 271,
      "outputs": []
    },
    {
      "cell_type": "code",
      "metadata": {
        "id": "JHO7pGQmH1sE"
      },
      "source": [
        "X = df.drop(['stroke'], axis = 1)\n",
        "y = df['stroke']\n",
        "X_train, X_test, y_train, y_test = train_test_split(X, y, test_size = 0.2,random_state = 42, stratify = y)\n",
        "\n",
        "X_stand = df_stand.drop(['stroke'], axis = 1)\n",
        "y_stand = df_stand['stroke']\n",
        "X_stand_train, X_stand_test, y_stand_train, y_stand_test = train_test_split(X_stand, y_stand, test_size = 0.2,random_state = 42, stratify = y_stand)\n",
        "\n",
        "X_val = df_val.drop(['stroke'], axis = 1)\n",
        "y_val = df_val['stroke']"
      ],
      "execution_count": 272,
      "outputs": []
    },
    {
      "cell_type": "code",
      "metadata": {
        "colab": {
          "base_uri": "https://localhost:8080/"
        },
        "id": "FxVzFLgiIU2P",
        "outputId": "88bb7891-d2ff-469b-b001-7473a5b60552"
      },
      "source": [
        "y_train.value_counts()"
      ],
      "execution_count": 273,
      "outputs": [
        {
          "output_type": "execute_result",
          "data": {
            "text/plain": [
              "1    3111\n",
              "0    3110\n",
              "Name: stroke, dtype: int64"
            ]
          },
          "metadata": {
            "tags": []
          },
          "execution_count": 273
        }
      ]
    },
    {
      "cell_type": "code",
      "metadata": {
        "colab": {
          "base_uri": "https://localhost:8080/"
        },
        "id": "LatA2VG1IY_W",
        "outputId": "3277b5ee-4cd5-44f1-8d43-5dd5156e9ac8"
      },
      "source": [
        "y_test.value_counts()"
      ],
      "execution_count": 274,
      "outputs": [
        {
          "output_type": "execute_result",
          "data": {
            "text/plain": [
              "1    778\n",
              "0    778\n",
              "Name: stroke, dtype: int64"
            ]
          },
          "metadata": {
            "tags": []
          },
          "execution_count": 274
        }
      ]
    },
    {
      "cell_type": "markdown",
      "metadata": {
        "id": "SaAD-xMDLHgo"
      },
      "source": [
        "#Baseline Model"
      ]
    },
    {
      "cell_type": "code",
      "metadata": {
        "colab": {
          "base_uri": "https://localhost:8080/"
        },
        "id": "RSRfmY8-Qa24",
        "outputId": "7638c5f7-b0fa-4826-956f-b56901572f52"
      },
      "source": [
        "model = DummyClassifier(strategy='constant', constant = 1, random_state= 42)\n",
        "scores = cross_val_score(model, X, y, scoring='roc_auc', n_jobs=-1)\n",
        "print('Mean roc_auc: %.3f (%.3f)' % (np.mean(scores), np.std(scores)))"
      ],
      "execution_count": 275,
      "outputs": [
        {
          "output_type": "stream",
          "text": [
            "Mean roc_auc: 0.500 (0.000)\n"
          ],
          "name": "stdout"
        }
      ]
    },
    {
      "cell_type": "markdown",
      "metadata": {
        "id": "CZzmE0GHLukc"
      },
      "source": [
        "without standarization"
      ]
    },
    {
      "cell_type": "code",
      "metadata": {
        "colab": {
          "base_uri": "https://localhost:8080/"
        },
        "id": "oymGca0ZJNfU",
        "outputId": "ae501f52-f7fa-4426-d6b4-f92500e83eae"
      },
      "source": [
        "model = LogisticRegression().fit(X_train, y_train)\n",
        "y_pred = model.predict(X_test)\n",
        "print(classification_report(y_test, y_pred))"
      ],
      "execution_count": 276,
      "outputs": [
        {
          "output_type": "stream",
          "text": [
            "              precision    recall  f1-score   support\n",
            "\n",
            "           0       0.79      0.73      0.76       778\n",
            "           1       0.75      0.81      0.78       778\n",
            "\n",
            "    accuracy                           0.77      1556\n",
            "   macro avg       0.77      0.77      0.77      1556\n",
            "weighted avg       0.77      0.77      0.77      1556\n",
            "\n"
          ],
          "name": "stdout"
        }
      ]
    },
    {
      "cell_type": "markdown",
      "metadata": {
        "id": "eVl6_CuyLxF_"
      },
      "source": [
        "With standarization"
      ]
    },
    {
      "cell_type": "code",
      "metadata": {
        "colab": {
          "base_uri": "https://localhost:8080/"
        },
        "id": "_MNjKpAfLpRs",
        "outputId": "1d9386af-93ac-4945-add4-d5923922144c"
      },
      "source": [
        "model = LogisticRegression().fit(X_stand_train, y_stand_train)\n",
        "y_pred = model.predict(X_stand_test)\n",
        "print(classification_report(y_stand_test, y_pred))"
      ],
      "execution_count": 277,
      "outputs": [
        {
          "output_type": "stream",
          "text": [
            "              precision    recall  f1-score   support\n",
            "\n",
            "           0       0.79      0.73      0.76       778\n",
            "           1       0.75      0.81      0.78       778\n",
            "\n",
            "    accuracy                           0.77      1556\n",
            "   macro avg       0.77      0.77      0.77      1556\n",
            "weighted avg       0.77      0.77      0.77      1556\n",
            "\n"
          ],
          "name": "stdout"
        }
      ]
    },
    {
      "cell_type": "code",
      "metadata": {
        "id": "Fb7oyMuKJ4qX",
        "colab": {
          "base_uri": "https://localhost:8080/"
        },
        "outputId": "856cb871-7559-47a6-9312-4e384a9f1397"
      },
      "source": [
        "roc_auc_score(y_test, y_pred)"
      ],
      "execution_count": 278,
      "outputs": [
        {
          "output_type": "execute_result",
          "data": {
            "text/plain": [
              "0.768637532133676"
            ]
          },
          "metadata": {
            "tags": []
          },
          "execution_count": 278
        }
      ]
    },
    {
      "cell_type": "code",
      "metadata": {
        "colab": {
          "base_uri": "https://localhost:8080/"
        },
        "id": "Lqm-SxglNMXO",
        "outputId": "40c3aa95-946f-4229-8a1d-ef28aba516db"
      },
      "source": [
        "X_train.info()"
      ],
      "execution_count": 279,
      "outputs": [
        {
          "output_type": "stream",
          "text": [
            "<class 'pandas.core.frame.DataFrame'>\n",
            "Int64Index: 6221 entries, 6525 to 5288\n",
            "Data columns (total 20 columns):\n",
            " #   Column                          Non-Null Count  Dtype  \n",
            "---  ------                          --------------  -----  \n",
            " 0   age                             6221 non-null   float64\n",
            " 1   hypertension                    6221 non-null   float64\n",
            " 2   heart_disease                   6221 non-null   float64\n",
            " 3   avg_glucose_level               6221 non-null   float64\n",
            " 4   bmi                             6221 non-null   float64\n",
            " 5   gender_Female                   6221 non-null   float64\n",
            " 6   gender_Male                     6221 non-null   float64\n",
            " 7   ever_married_No                 6221 non-null   float64\n",
            " 8   ever_married_Yes                6221 non-null   float64\n",
            " 9   work_type_Govt_job              6221 non-null   float64\n",
            " 10  work_type_Never_worked          6221 non-null   float64\n",
            " 11  work_type_Private               6221 non-null   float64\n",
            " 12  work_type_Self-employed         6221 non-null   float64\n",
            " 13  work_type_children              6221 non-null   float64\n",
            " 14  Residence_type_Rural            6221 non-null   float64\n",
            " 15  Residence_type_Urban            6221 non-null   float64\n",
            " 16  smoking_status_Unknown          6221 non-null   float64\n",
            " 17  smoking_status_formerly smoked  6221 non-null   float64\n",
            " 18  smoking_status_never smoked     6221 non-null   float64\n",
            " 19  smoking_status_smokes           6221 non-null   float64\n",
            "dtypes: float64(20)\n",
            "memory usage: 1020.6 KB\n"
          ],
          "name": "stdout"
        }
      ]
    },
    {
      "cell_type": "code",
      "metadata": {
        "colab": {
          "base_uri": "https://localhost:8080/"
        },
        "id": "esVk_mcOMR7o",
        "outputId": "ff96fd1d-9517-498f-80f5-82211057f7d0"
      },
      "source": [
        "clf = CatBoostClassifier(iterations=100)\n",
        "clf.fit( X_train, y_train)"
      ],
      "execution_count": 280,
      "outputs": [
        {
          "output_type": "stream",
          "text": [
            "Learning rate set to 0.185743\n",
            "0:\tlearn: 0.5251103\ttotal: 9.13ms\tremaining: 904ms\n",
            "1:\tlearn: 0.4142646\ttotal: 17.5ms\tremaining: 858ms\n",
            "2:\tlearn: 0.3117341\ttotal: 26.8ms\tremaining: 867ms\n",
            "3:\tlearn: 0.2663158\ttotal: 37ms\tremaining: 887ms\n",
            "4:\tlearn: 0.2277078\ttotal: 45.8ms\tremaining: 870ms\n",
            "5:\tlearn: 0.2065185\ttotal: 53.8ms\tremaining: 842ms\n",
            "6:\tlearn: 0.1829677\ttotal: 62.4ms\tremaining: 829ms\n",
            "7:\tlearn: 0.1701164\ttotal: 70.6ms\tremaining: 812ms\n",
            "8:\tlearn: 0.1621507\ttotal: 78.3ms\tremaining: 791ms\n",
            "9:\tlearn: 0.1473276\ttotal: 86.2ms\tremaining: 776ms\n",
            "10:\tlearn: 0.1406086\ttotal: 93.9ms\tremaining: 760ms\n",
            "11:\tlearn: 0.1356941\ttotal: 107ms\tremaining: 782ms\n",
            "12:\tlearn: 0.1326093\ttotal: 115ms\tremaining: 769ms\n",
            "13:\tlearn: 0.1270667\ttotal: 123ms\tremaining: 753ms\n",
            "14:\tlearn: 0.1237633\ttotal: 134ms\tremaining: 759ms\n",
            "15:\tlearn: 0.1195474\ttotal: 142ms\tremaining: 744ms\n",
            "16:\tlearn: 0.1170865\ttotal: 149ms\tremaining: 730ms\n",
            "17:\tlearn: 0.1148084\ttotal: 160ms\tremaining: 730ms\n",
            "18:\tlearn: 0.1130053\ttotal: 169ms\tremaining: 719ms\n",
            "19:\tlearn: 0.1110036\ttotal: 176ms\tremaining: 706ms\n",
            "20:\tlearn: 0.1092551\ttotal: 184ms\tremaining: 693ms\n",
            "21:\tlearn: 0.1070379\ttotal: 192ms\tremaining: 681ms\n",
            "22:\tlearn: 0.1047436\ttotal: 202ms\tremaining: 677ms\n",
            "23:\tlearn: 0.1037572\ttotal: 210ms\tremaining: 666ms\n",
            "24:\tlearn: 0.1020799\ttotal: 218ms\tremaining: 655ms\n",
            "25:\tlearn: 0.1011801\ttotal: 226ms\tremaining: 643ms\n",
            "26:\tlearn: 0.0997979\ttotal: 237ms\tremaining: 642ms\n",
            "27:\tlearn: 0.0983041\ttotal: 246ms\tremaining: 632ms\n",
            "28:\tlearn: 0.0962993\ttotal: 254ms\tremaining: 621ms\n",
            "29:\tlearn: 0.0955393\ttotal: 261ms\tremaining: 610ms\n",
            "30:\tlearn: 0.0949030\ttotal: 269ms\tremaining: 598ms\n",
            "31:\tlearn: 0.0930923\ttotal: 276ms\tremaining: 587ms\n",
            "32:\tlearn: 0.0919825\ttotal: 284ms\tremaining: 576ms\n",
            "33:\tlearn: 0.0907555\ttotal: 292ms\tremaining: 566ms\n",
            "34:\tlearn: 0.0898710\ttotal: 299ms\tremaining: 556ms\n",
            "35:\tlearn: 0.0885965\ttotal: 311ms\tremaining: 553ms\n",
            "36:\tlearn: 0.0878713\ttotal: 319ms\tremaining: 544ms\n",
            "37:\tlearn: 0.0870855\ttotal: 327ms\tremaining: 534ms\n",
            "38:\tlearn: 0.0862085\ttotal: 335ms\tremaining: 524ms\n",
            "39:\tlearn: 0.0853679\ttotal: 342ms\tremaining: 514ms\n",
            "40:\tlearn: 0.0847416\ttotal: 350ms\tremaining: 504ms\n",
            "41:\tlearn: 0.0831638\ttotal: 361ms\tremaining: 498ms\n",
            "42:\tlearn: 0.0824890\ttotal: 373ms\tremaining: 494ms\n",
            "43:\tlearn: 0.0814149\ttotal: 380ms\tremaining: 484ms\n",
            "44:\tlearn: 0.0809031\ttotal: 388ms\tremaining: 474ms\n",
            "45:\tlearn: 0.0798565\ttotal: 399ms\tremaining: 468ms\n",
            "46:\tlearn: 0.0794244\ttotal: 407ms\tremaining: 458ms\n",
            "47:\tlearn: 0.0789084\ttotal: 414ms\tremaining: 448ms\n",
            "48:\tlearn: 0.0783646\ttotal: 421ms\tremaining: 439ms\n",
            "49:\tlearn: 0.0776229\ttotal: 429ms\tremaining: 429ms\n",
            "50:\tlearn: 0.0770355\ttotal: 441ms\tremaining: 423ms\n",
            "51:\tlearn: 0.0759504\ttotal: 449ms\tremaining: 415ms\n",
            "52:\tlearn: 0.0754964\ttotal: 457ms\tremaining: 405ms\n",
            "53:\tlearn: 0.0748402\ttotal: 464ms\tremaining: 396ms\n",
            "54:\tlearn: 0.0740700\ttotal: 472ms\tremaining: 386ms\n",
            "55:\tlearn: 0.0734699\ttotal: 479ms\tremaining: 377ms\n",
            "56:\tlearn: 0.0730943\ttotal: 487ms\tremaining: 367ms\n",
            "57:\tlearn: 0.0728584\ttotal: 497ms\tremaining: 360ms\n",
            "58:\tlearn: 0.0721607\ttotal: 505ms\tremaining: 351ms\n",
            "59:\tlearn: 0.0715600\ttotal: 517ms\tremaining: 345ms\n",
            "60:\tlearn: 0.0710452\ttotal: 525ms\tremaining: 335ms\n",
            "61:\tlearn: 0.0706663\ttotal: 532ms\tremaining: 326ms\n",
            "62:\tlearn: 0.0700871\ttotal: 540ms\tremaining: 317ms\n",
            "63:\tlearn: 0.0692270\ttotal: 547ms\tremaining: 308ms\n",
            "64:\tlearn: 0.0686689\ttotal: 555ms\tremaining: 299ms\n",
            "65:\tlearn: 0.0681144\ttotal: 566ms\tremaining: 291ms\n",
            "66:\tlearn: 0.0677777\ttotal: 573ms\tremaining: 282ms\n",
            "67:\tlearn: 0.0671627\ttotal: 581ms\tremaining: 273ms\n",
            "68:\tlearn: 0.0667598\ttotal: 591ms\tremaining: 266ms\n",
            "69:\tlearn: 0.0657881\ttotal: 599ms\tremaining: 257ms\n",
            "70:\tlearn: 0.0645998\ttotal: 607ms\tremaining: 248ms\n",
            "71:\tlearn: 0.0643697\ttotal: 615ms\tremaining: 239ms\n",
            "72:\tlearn: 0.0633551\ttotal: 623ms\tremaining: 230ms\n",
            "73:\tlearn: 0.0630876\ttotal: 631ms\tremaining: 222ms\n",
            "74:\tlearn: 0.0623783\ttotal: 642ms\tremaining: 214ms\n",
            "75:\tlearn: 0.0619587\ttotal: 651ms\tremaining: 206ms\n",
            "76:\tlearn: 0.0611015\ttotal: 659ms\tremaining: 197ms\n",
            "77:\tlearn: 0.0607258\ttotal: 668ms\tremaining: 188ms\n",
            "78:\tlearn: 0.0603319\ttotal: 676ms\tremaining: 180ms\n",
            "79:\tlearn: 0.0597182\ttotal: 683ms\tremaining: 171ms\n",
            "80:\tlearn: 0.0593408\ttotal: 693ms\tremaining: 162ms\n",
            "81:\tlearn: 0.0588136\ttotal: 702ms\tremaining: 154ms\n",
            "82:\tlearn: 0.0583642\ttotal: 710ms\tremaining: 145ms\n",
            "83:\tlearn: 0.0574755\ttotal: 720ms\tremaining: 137ms\n",
            "84:\tlearn: 0.0567916\ttotal: 728ms\tremaining: 128ms\n",
            "85:\tlearn: 0.0563696\ttotal: 735ms\tremaining: 120ms\n",
            "86:\tlearn: 0.0557141\ttotal: 743ms\tremaining: 111ms\n",
            "87:\tlearn: 0.0554009\ttotal: 751ms\tremaining: 102ms\n",
            "88:\tlearn: 0.0548052\ttotal: 759ms\tremaining: 93.8ms\n",
            "89:\tlearn: 0.0541734\ttotal: 770ms\tremaining: 85.5ms\n",
            "90:\tlearn: 0.0534630\ttotal: 778ms\tremaining: 76.9ms\n",
            "91:\tlearn: 0.0531314\ttotal: 785ms\tremaining: 68.3ms\n",
            "92:\tlearn: 0.0527097\ttotal: 796ms\tremaining: 59.9ms\n",
            "93:\tlearn: 0.0525752\ttotal: 804ms\tremaining: 51.3ms\n",
            "94:\tlearn: 0.0523170\ttotal: 811ms\tremaining: 42.7ms\n",
            "95:\tlearn: 0.0517396\ttotal: 819ms\tremaining: 34.1ms\n",
            "96:\tlearn: 0.0514068\ttotal: 827ms\tremaining: 25.6ms\n",
            "97:\tlearn: 0.0508836\ttotal: 834ms\tremaining: 17ms\n",
            "98:\tlearn: 0.0506243\ttotal: 863ms\tremaining: 8.72ms\n",
            "99:\tlearn: 0.0500852\ttotal: 874ms\tremaining: 0us\n"
          ],
          "name": "stdout"
        },
        {
          "output_type": "execute_result",
          "data": {
            "text/plain": [
              "<catboost.core.CatBoostClassifier at 0x7fdf1891be50>"
            ]
          },
          "metadata": {
            "tags": []
          },
          "execution_count": 280
        }
      ]
    },
    {
      "cell_type": "code",
      "metadata": {
        "colab": {
          "base_uri": "https://localhost:8080/"
        },
        "id": "P4vxOsQ-NfMW",
        "outputId": "78255336-55f7-4954-dffe-a4712d8a707f"
      },
      "source": [
        "y_pred = clf.predict(X_test)\n",
        "print(classification_report(y_test, y_pred))"
      ],
      "execution_count": 281,
      "outputs": [
        {
          "output_type": "stream",
          "text": [
            "              precision    recall  f1-score   support\n",
            "\n",
            "           0       0.96      0.99      0.98       778\n",
            "           1       0.99      0.96      0.97       778\n",
            "\n",
            "    accuracy                           0.97      1556\n",
            "   macro avg       0.98      0.97      0.97      1556\n",
            "weighted avg       0.98      0.97      0.97      1556\n",
            "\n"
          ],
          "name": "stdout"
        }
      ]
    },
    {
      "cell_type": "markdown",
      "metadata": {
        "id": "2tVG_nzRRCw3"
      },
      "source": [
        "#Model Selection"
      ]
    },
    {
      "cell_type": "code",
      "metadata": {
        "id": "XUKk8uQYRBvm"
      },
      "source": [
        "models = []\n",
        "names = []\n",
        "\n",
        "models.append(LogisticRegression(solver='liblinear'))\n",
        "names.append('LogisticRegression')\n",
        "\n",
        "models.append(GaussianNB())\n",
        "names.append('Naive Bayes')\n",
        "\n",
        "models.append(KNeighborsClassifier())\n",
        "names.append('KNN')\n",
        "\n",
        "models.append(SVC(gamma='scale', random_state = 42))\n",
        "names.append('SVM')\n",
        "\n",
        "models.append(DecisionTreeClassifier(random_state = 42))\n",
        "names.append('Decision Tree')\n",
        "\n",
        "models.append(BaggingClassifier(random_state = 42))\n",
        "names.append('Bagging Decision Tree')\n",
        "\n",
        "models.append(AdaBoostClassifier(base_estimator=DecisionTreeClassifier(), n_estimators=25, learning_rate = 0.1, random_state = 42))\n",
        "names.append('Boosted Decision tree')\n",
        "\n",
        "models.append(RandomForestClassifier(random_state = 42))\n",
        "names.append('Random Forest')\n",
        "\n",
        "models.append(CatBoostClassifier(iterations=100, random_state = 42))\n",
        "names.append('CatBoost Classifier')"
      ],
      "execution_count": 282,
      "outputs": []
    },
    {
      "cell_type": "code",
      "metadata": {
        "id": "OZXo6n5IRALX"
      },
      "source": [
        "def model_score(model, name):\n",
        "  scores = cross_val_score(model, X, y, scoring='roc_auc', n_jobs=-1)\n",
        "  print('>%s %.3f (%.3f)' % (name, np.mean(scores), np.std(scores)))\n",
        "  # print(f'{name} {np.mean(scores)} {np.std(scores)}')\n",
        "\n",
        "def model_score_stand(model, name):\n",
        "  scores = cross_val_score(model, X_stand, y_stand, scoring='roc_auc', n_jobs=-1)\n",
        "  print('>%s %.3f (%.3f)' % (name, np.mean(scores), np.std(scores)))\n",
        "\n",
        "\n",
        "def model_score2(model, name):\n",
        "  y_pred = model.fit(X_train, y_train).predict(X_test)\n",
        "  try:\n",
        "    score  = model.predict_proba(X_test)[:, 1]\n",
        "    roc = roc_auc_score(y_test, score, average ='weighted')\n",
        "  except:\n",
        "    roc = 0\n",
        "  print(f'{name}:')\n",
        "  print(f'ROC score {roc}')\n",
        "  print(f'Accuracy {accuracy_score(y_test,y_pred)}')\n",
        "  print(f'f1 {f1_score(y_test,y_pred, average = \"weighted\")}')\n",
        "  print(f'Recall {recall_score(y_test,y_pred, average = \"weighted\")}')\n",
        "  print(f'Precision {precision_score(y_test,y_pred, average = \"weighted\")}')\n",
        "  print()\n",
        "\n",
        "def model_score2_stand(model, name):\n",
        "  y_pred = model.fit(X_stand_train, y_stand_train).predict(X_stand_test)\n",
        "  try:\n",
        "    score  = model.predict_proba(X_stand_test)[:, 1]\n",
        "    roc = roc_auc_score(y_stand_test, score, average ='weighted')\n",
        "  except:\n",
        "    roc = 0\n",
        "  print(f'{name}:')\n",
        "  print(f'ROC score {roc}')\n",
        "  print(f'Accuracy {accuracy_score(y_stand_test,y_pred)}')\n",
        "  print(f'f1 {f1_score(y_stand_test,y_pred, average = \"weighted\")}')\n",
        "  print(f'Recall {recall_score(y_stand_test,y_pred, average = \"weighted\")}')\n",
        "  print(f'Precision {precision_score(y_stand_test,y_pred, average = \"weighted\")}')\n",
        "  print()"
      ],
      "execution_count": 283,
      "outputs": []
    },
    {
      "cell_type": "markdown",
      "metadata": {
        "id": "K3x-gBXnPc2n"
      },
      "source": [
        "##Without standarization"
      ]
    },
    {
      "cell_type": "code",
      "metadata": {
        "colab": {
          "base_uri": "https://localhost:8080/"
        },
        "id": "zsXMcbyceiKn",
        "outputId": "15fcf84f-ff30-4b25-978e-648f55ac78ed"
      },
      "source": [
        "for i in range(len(models)):\n",
        "  model_score(models[i],names[i])"
      ],
      "execution_count": 284,
      "outputs": [
        {
          "output_type": "stream",
          "text": [
            ">LogisticRegression 0.854 (0.005)\n",
            ">Naive Bayes 0.830 (0.010)\n",
            ">KNN 0.942 (0.005)\n",
            ">SVM 0.848 (0.007)\n",
            ">Decision Tree 0.941 (0.001)\n",
            ">Bagging Decision Tree 0.989 (0.001)\n",
            ">Boosted Decision tree 0.940 (0.002)\n",
            ">Random Forest 0.993 (0.001)\n",
            ">CatBoost Classifier 0.992 (0.002)\n"
          ],
          "name": "stdout"
        }
      ]
    },
    {
      "cell_type": "code",
      "metadata": {
        "colab": {
          "base_uri": "https://localhost:8080/"
        },
        "id": "3I8JqU3rr5w1",
        "outputId": "d74554de-5de9-457f-b764-c9d2f288ad47"
      },
      "source": [
        "for i in range(len(models)):\n",
        "  model_score2(models[i],names[i])"
      ],
      "execution_count": 285,
      "outputs": [
        {
          "output_type": "stream",
          "text": [
            "LogisticRegression:\n",
            "ROC score 0.8378562790359566\n",
            "Accuracy 0.769280205655527\n",
            "f1 0.7689250707884249\n",
            "Recall 0.769280205655527\n",
            "Precision 0.7709458527203301\n",
            "\n",
            "Naive Bayes:\n",
            "ROC score 0.8263096331639364\n",
            "Accuracy 0.6838046272493573\n",
            "f1 0.6565941114936938\n",
            "Recall 0.6838046272493573\n",
            "Precision 0.7690934597523219\n",
            "\n",
            "KNN:\n",
            "ROC score 0.9516152748131456\n",
            "Accuracy 0.8862467866323908\n",
            "f1 0.8851066971867386\n",
            "Recall 0.8862467866323908\n",
            "Precision 0.9022114066190804\n",
            "\n",
            "SVM:\n",
            "ROC score 0\n",
            "Accuracy 0.7570694087403599\n",
            "f1 0.7563928608704727\n",
            "Recall 0.7570694087403599\n",
            "Precision 0.759957230686982\n",
            "\n",
            "Decision Tree:\n",
            "ROC score 0.9357326478149101\n",
            "Accuracy 0.9357326478149101\n",
            "f1 0.9357299932756061\n",
            "Recall 0.9357326478149101\n",
            "Precision 0.9358046478426397\n",
            "\n",
            "Bagging Decision Tree:\n",
            "ROC score 0.9910546123803041\n",
            "Accuracy 0.9640102827763496\n",
            "f1 0.9640030867716631\n",
            "Recall 0.9640102827763496\n",
            "Precision 0.9643816137566138\n",
            "\n",
            "Boosted Decision tree:\n",
            "ROC score 0.9376606683804627\n",
            "Accuracy 0.9376606683804627\n",
            "f1 0.9376548745492916\n",
            "Recall 0.9376606683804627\n",
            "Precision 0.9378234188732009\n",
            "\n",
            "Random Forest:\n",
            "ROC score 0.9948924802241593\n",
            "Accuracy 0.974293059125964\n",
            "f1 0.9742821819816604\n",
            "Recall 0.974293059125964\n",
            "Precision 0.9750968126303248\n",
            "\n",
            "Learning rate set to 0.185743\n",
            "0:\tlearn: 0.5243356\ttotal: 7.6ms\tremaining: 753ms\n",
            "1:\tlearn: 0.3886081\ttotal: 15.2ms\tremaining: 743ms\n",
            "2:\tlearn: 0.3033958\ttotal: 22.8ms\tremaining: 737ms\n",
            "3:\tlearn: 0.2566699\ttotal: 30.4ms\tremaining: 729ms\n",
            "4:\tlearn: 0.2253991\ttotal: 37.9ms\tremaining: 720ms\n",
            "5:\tlearn: 0.1972864\ttotal: 45.6ms\tremaining: 714ms\n",
            "6:\tlearn: 0.1824864\ttotal: 53ms\tremaining: 705ms\n",
            "7:\tlearn: 0.1692405\ttotal: 60.4ms\tremaining: 695ms\n",
            "8:\tlearn: 0.1565788\ttotal: 68.5ms\tremaining: 692ms\n",
            "9:\tlearn: 0.1482871\ttotal: 76ms\tremaining: 684ms\n",
            "10:\tlearn: 0.1413220\ttotal: 83.6ms\tremaining: 676ms\n",
            "11:\tlearn: 0.1351670\ttotal: 91.2ms\tremaining: 669ms\n",
            "12:\tlearn: 0.1301006\ttotal: 98.7ms\tremaining: 660ms\n",
            "13:\tlearn: 0.1267448\ttotal: 106ms\tremaining: 652ms\n",
            "14:\tlearn: 0.1218898\ttotal: 114ms\tremaining: 644ms\n",
            "15:\tlearn: 0.1177610\ttotal: 121ms\tremaining: 636ms\n",
            "16:\tlearn: 0.1144786\ttotal: 129ms\tremaining: 630ms\n",
            "17:\tlearn: 0.1124072\ttotal: 137ms\tremaining: 623ms\n",
            "18:\tlearn: 0.1112747\ttotal: 145ms\tremaining: 617ms\n",
            "19:\tlearn: 0.1100760\ttotal: 152ms\tremaining: 610ms\n",
            "20:\tlearn: 0.1087710\ttotal: 160ms\tremaining: 604ms\n",
            "21:\tlearn: 0.1072759\ttotal: 168ms\tremaining: 596ms\n",
            "22:\tlearn: 0.1063760\ttotal: 180ms\tremaining: 604ms\n",
            "23:\tlearn: 0.1044355\ttotal: 188ms\tremaining: 596ms\n",
            "24:\tlearn: 0.1034760\ttotal: 196ms\tremaining: 588ms\n",
            "25:\tlearn: 0.1020662\ttotal: 204ms\tremaining: 580ms\n",
            "26:\tlearn: 0.1008848\ttotal: 212ms\tremaining: 573ms\n",
            "27:\tlearn: 0.0992330\ttotal: 221ms\tremaining: 569ms\n",
            "28:\tlearn: 0.0975792\ttotal: 230ms\tremaining: 562ms\n",
            "29:\tlearn: 0.0968772\ttotal: 237ms\tremaining: 553ms\n",
            "30:\tlearn: 0.0956242\ttotal: 245ms\tremaining: 545ms\n",
            "31:\tlearn: 0.0938505\ttotal: 252ms\tremaining: 536ms\n",
            "32:\tlearn: 0.0928729\ttotal: 260ms\tremaining: 528ms\n",
            "33:\tlearn: 0.0918531\ttotal: 267ms\tremaining: 519ms\n",
            "34:\tlearn: 0.0910638\ttotal: 275ms\tremaining: 511ms\n",
            "35:\tlearn: 0.0902354\ttotal: 284ms\tremaining: 505ms\n",
            "36:\tlearn: 0.0893133\ttotal: 291ms\tremaining: 496ms\n",
            "37:\tlearn: 0.0886787\ttotal: 299ms\tremaining: 487ms\n",
            "38:\tlearn: 0.0879728\ttotal: 306ms\tremaining: 479ms\n",
            "39:\tlearn: 0.0876562\ttotal: 314ms\tremaining: 471ms\n",
            "40:\tlearn: 0.0872102\ttotal: 321ms\tremaining: 463ms\n",
            "41:\tlearn: 0.0857675\ttotal: 329ms\tremaining: 454ms\n",
            "42:\tlearn: 0.0850620\ttotal: 337ms\tremaining: 446ms\n",
            "43:\tlearn: 0.0843959\ttotal: 344ms\tremaining: 438ms\n",
            "44:\tlearn: 0.0834215\ttotal: 352ms\tremaining: 430ms\n",
            "45:\tlearn: 0.0820037\ttotal: 359ms\tremaining: 422ms\n",
            "46:\tlearn: 0.0810695\ttotal: 367ms\tremaining: 414ms\n",
            "47:\tlearn: 0.0802741\ttotal: 378ms\tremaining: 409ms\n",
            "48:\tlearn: 0.0798392\ttotal: 386ms\tremaining: 402ms\n",
            "49:\tlearn: 0.0790317\ttotal: 393ms\tremaining: 393ms\n",
            "50:\tlearn: 0.0780424\ttotal: 401ms\tremaining: 385ms\n",
            "51:\tlearn: 0.0771435\ttotal: 408ms\tremaining: 377ms\n",
            "52:\tlearn: 0.0764485\ttotal: 416ms\tremaining: 369ms\n",
            "53:\tlearn: 0.0758983\ttotal: 423ms\tremaining: 361ms\n",
            "54:\tlearn: 0.0752205\ttotal: 431ms\tremaining: 353ms\n",
            "55:\tlearn: 0.0748049\ttotal: 439ms\tremaining: 345ms\n",
            "56:\tlearn: 0.0745428\ttotal: 446ms\tremaining: 336ms\n",
            "57:\tlearn: 0.0735087\ttotal: 454ms\tremaining: 328ms\n",
            "58:\tlearn: 0.0727815\ttotal: 461ms\tremaining: 320ms\n",
            "59:\tlearn: 0.0720080\ttotal: 468ms\tremaining: 312ms\n",
            "60:\tlearn: 0.0715623\ttotal: 476ms\tremaining: 304ms\n",
            "61:\tlearn: 0.0713214\ttotal: 484ms\tremaining: 296ms\n",
            "62:\tlearn: 0.0710985\ttotal: 491ms\tremaining: 288ms\n",
            "63:\tlearn: 0.0703709\ttotal: 498ms\tremaining: 280ms\n",
            "64:\tlearn: 0.0697910\ttotal: 506ms\tremaining: 272ms\n",
            "65:\tlearn: 0.0691483\ttotal: 516ms\tremaining: 266ms\n",
            "66:\tlearn: 0.0688065\ttotal: 523ms\tremaining: 258ms\n",
            "67:\tlearn: 0.0684624\ttotal: 530ms\tremaining: 250ms\n",
            "68:\tlearn: 0.0682329\ttotal: 538ms\tremaining: 242ms\n",
            "69:\tlearn: 0.0671775\ttotal: 548ms\tremaining: 235ms\n",
            "70:\tlearn: 0.0661355\ttotal: 556ms\tremaining: 227ms\n",
            "71:\tlearn: 0.0649490\ttotal: 563ms\tremaining: 219ms\n",
            "72:\tlearn: 0.0643556\ttotal: 571ms\tremaining: 211ms\n",
            "73:\tlearn: 0.0632978\ttotal: 582ms\tremaining: 204ms\n",
            "74:\tlearn: 0.0626541\ttotal: 589ms\tremaining: 196ms\n",
            "75:\tlearn: 0.0622926\ttotal: 597ms\tremaining: 188ms\n",
            "76:\tlearn: 0.0618602\ttotal: 604ms\tremaining: 180ms\n",
            "77:\tlearn: 0.0614995\ttotal: 611ms\tremaining: 172ms\n",
            "78:\tlearn: 0.0605942\ttotal: 619ms\tremaining: 165ms\n",
            "79:\tlearn: 0.0597361\ttotal: 627ms\tremaining: 157ms\n",
            "80:\tlearn: 0.0590854\ttotal: 634ms\tremaining: 149ms\n",
            "81:\tlearn: 0.0586312\ttotal: 642ms\tremaining: 141ms\n",
            "82:\tlearn: 0.0581271\ttotal: 650ms\tremaining: 133ms\n",
            "83:\tlearn: 0.0577458\ttotal: 657ms\tremaining: 125ms\n",
            "84:\tlearn: 0.0573307\ttotal: 665ms\tremaining: 117ms\n",
            "85:\tlearn: 0.0567989\ttotal: 673ms\tremaining: 110ms\n",
            "86:\tlearn: 0.0562030\ttotal: 680ms\tremaining: 102ms\n",
            "87:\tlearn: 0.0560348\ttotal: 688ms\tremaining: 93.8ms\n",
            "88:\tlearn: 0.0556814\ttotal: 696ms\tremaining: 86ms\n",
            "89:\tlearn: 0.0551314\ttotal: 703ms\tremaining: 78.1ms\n",
            "90:\tlearn: 0.0548219\ttotal: 711ms\tremaining: 70.3ms\n",
            "91:\tlearn: 0.0544061\ttotal: 718ms\tremaining: 62.5ms\n",
            "92:\tlearn: 0.0543015\ttotal: 726ms\tremaining: 54.6ms\n",
            "93:\tlearn: 0.0536854\ttotal: 734ms\tremaining: 46.9ms\n",
            "94:\tlearn: 0.0530041\ttotal: 742ms\tremaining: 39ms\n",
            "95:\tlearn: 0.0527423\ttotal: 749ms\tremaining: 31.2ms\n",
            "96:\tlearn: 0.0525375\ttotal: 757ms\tremaining: 23.4ms\n",
            "97:\tlearn: 0.0523734\ttotal: 767ms\tremaining: 15.7ms\n",
            "98:\tlearn: 0.0522651\ttotal: 782ms\tremaining: 7.9ms\n",
            "99:\tlearn: 0.0518168\ttotal: 790ms\tremaining: 0us\n",
            "CatBoost Classifier:\n",
            "ROC score 0.9927653795573649\n",
            "Accuracy 0.9730077120822622\n",
            "f1 0.9729948181389929\n",
            "Recall 0.9730077120822622\n",
            "Precision 0.9739128131786642\n",
            "\n"
          ],
          "name": "stdout"
        }
      ]
    },
    {
      "cell_type": "markdown",
      "metadata": {
        "id": "YqtsDmDZqUnr"
      },
      "source": [
        "##With standarization"
      ]
    },
    {
      "cell_type": "code",
      "metadata": {
        "colab": {
          "base_uri": "https://localhost:8080/"
        },
        "id": "hRIIAgVPqaZB",
        "outputId": "8946931a-5fa1-48fc-98ef-4cf415efdf26"
      },
      "source": [
        "for i in range(len(models)):\n",
        "  model_score_stand(models[i],names[i])"
      ],
      "execution_count": 286,
      "outputs": [
        {
          "output_type": "stream",
          "text": [
            ">LogisticRegression 0.854 (0.005)\n",
            ">Naive Bayes 0.830 (0.010)\n",
            ">KNN 0.973 (0.006)\n",
            ">SVM 0.982 (0.002)\n",
            ">Decision Tree 0.941 (0.001)\n",
            ">Bagging Decision Tree 0.989 (0.001)\n",
            ">Boosted Decision tree 0.940 (0.002)\n",
            ">Random Forest 0.993 (0.001)\n",
            ">CatBoost Classifier 0.992 (0.002)\n"
          ],
          "name": "stdout"
        }
      ]
    },
    {
      "cell_type": "code",
      "metadata": {
        "colab": {
          "base_uri": "https://localhost:8080/"
        },
        "id": "YRRpyjPE2Hq7",
        "outputId": "27831f12-87e7-406a-c445-ce01b0004daf"
      },
      "source": [
        "for i in range(len(models)):\n",
        "  model_score2_stand(models[i],names[i])"
      ],
      "execution_count": 287,
      "outputs": [
        {
          "output_type": "stream",
          "text": [
            "LogisticRegression:\n",
            "ROC score 0.8374977696420194\n",
            "Accuracy 0.7686375321336761\n",
            "f1 0.7682930057711654\n",
            "Recall 0.7686375321336761\n",
            "Precision 0.7702448461318566\n",
            "\n",
            "Naive Bayes:\n",
            "ROC score 0.8263079810469136\n",
            "Accuracy 0.6574550128534704\n",
            "f1 0.6126885833105667\n",
            "Recall 0.6574550128534704\n",
            "Precision 0.7928469808845174\n",
            "\n",
            "KNN:\n",
            "ROC score 0.9697902141804509\n",
            "Accuracy 0.9158097686375322\n",
            "f1 0.9156030932338306\n",
            "Recall 0.9158097686375322\n",
            "Precision 0.9199230839819473\n",
            "\n",
            "SVM:\n",
            "ROC score 0\n",
            "Accuracy 0.9338046272493573\n",
            "f1 0.9337586357258142\n",
            "Recall 0.9338046272493573\n",
            "Precision 0.9350127484455842\n",
            "\n",
            "Decision Tree:\n",
            "ROC score 0.9357326478149101\n",
            "Accuracy 0.9357326478149101\n",
            "f1 0.9357299932756061\n",
            "Recall 0.9357326478149101\n",
            "Precision 0.9358046478426397\n",
            "\n",
            "Bagging Decision Tree:\n",
            "ROC score 0.9910546123803041\n",
            "Accuracy 0.9640102827763496\n",
            "f1 0.9640030867716631\n",
            "Recall 0.9640102827763496\n",
            "Precision 0.9643816137566138\n",
            "\n",
            "Boosted Decision tree:\n",
            "ROC score 0.9376606683804627\n",
            "Accuracy 0.9376606683804627\n",
            "f1 0.9376548745492916\n",
            "Recall 0.9376606683804627\n",
            "Precision 0.9378234188732009\n",
            "\n",
            "Random Forest:\n",
            "ROC score 0.9948900020486251\n",
            "Accuracy 0.974293059125964\n",
            "f1 0.9742821819816604\n",
            "Recall 0.974293059125964\n",
            "Precision 0.9750968126303248\n",
            "\n",
            "Learning rate set to 0.185743\n",
            "0:\tlearn: 0.5243356\ttotal: 7.78ms\tremaining: 770ms\n",
            "1:\tlearn: 0.3886081\ttotal: 15.3ms\tremaining: 752ms\n",
            "2:\tlearn: 0.3033958\ttotal: 22.9ms\tremaining: 741ms\n",
            "3:\tlearn: 0.2566699\ttotal: 30.6ms\tremaining: 735ms\n",
            "4:\tlearn: 0.2253991\ttotal: 38.2ms\tremaining: 725ms\n",
            "5:\tlearn: 0.1972864\ttotal: 45.7ms\tremaining: 716ms\n",
            "6:\tlearn: 0.1824864\ttotal: 53.2ms\tremaining: 707ms\n",
            "7:\tlearn: 0.1692405\ttotal: 65.9ms\tremaining: 758ms\n",
            "8:\tlearn: 0.1565788\ttotal: 75.1ms\tremaining: 759ms\n",
            "9:\tlearn: 0.1482871\ttotal: 82.6ms\tremaining: 744ms\n",
            "10:\tlearn: 0.1413220\ttotal: 90.1ms\tremaining: 729ms\n",
            "11:\tlearn: 0.1351670\ttotal: 97.5ms\tremaining: 715ms\n",
            "12:\tlearn: 0.1301006\ttotal: 105ms\tremaining: 703ms\n",
            "13:\tlearn: 0.1267448\ttotal: 112ms\tremaining: 691ms\n",
            "14:\tlearn: 0.1218898\ttotal: 120ms\tremaining: 680ms\n",
            "15:\tlearn: 0.1177610\ttotal: 127ms\tremaining: 669ms\n",
            "16:\tlearn: 0.1144786\ttotal: 135ms\tremaining: 658ms\n",
            "17:\tlearn: 0.1124072\ttotal: 142ms\tremaining: 648ms\n",
            "18:\tlearn: 0.1112747\ttotal: 150ms\tremaining: 638ms\n",
            "19:\tlearn: 0.1100760\ttotal: 158ms\tremaining: 633ms\n",
            "20:\tlearn: 0.1087710\ttotal: 166ms\tremaining: 625ms\n",
            "21:\tlearn: 0.1072759\ttotal: 182ms\tremaining: 645ms\n",
            "22:\tlearn: 0.1063760\ttotal: 191ms\tremaining: 639ms\n",
            "23:\tlearn: 0.1044355\ttotal: 198ms\tremaining: 628ms\n",
            "24:\tlearn: 0.1034760\ttotal: 206ms\tremaining: 619ms\n",
            "25:\tlearn: 0.1020662\ttotal: 214ms\tremaining: 609ms\n",
            "26:\tlearn: 0.1008848\ttotal: 225ms\tremaining: 608ms\n",
            "27:\tlearn: 0.0992330\ttotal: 232ms\tremaining: 598ms\n",
            "28:\tlearn: 0.0975792\ttotal: 240ms\tremaining: 588ms\n",
            "29:\tlearn: 0.0968772\ttotal: 248ms\tremaining: 578ms\n",
            "30:\tlearn: 0.0956242\ttotal: 255ms\tremaining: 568ms\n",
            "31:\tlearn: 0.0938505\ttotal: 263ms\tremaining: 558ms\n",
            "32:\tlearn: 0.0928729\ttotal: 270ms\tremaining: 549ms\n",
            "33:\tlearn: 0.0918531\ttotal: 278ms\tremaining: 539ms\n",
            "34:\tlearn: 0.0910638\ttotal: 286ms\tremaining: 530ms\n",
            "35:\tlearn: 0.0902354\ttotal: 294ms\tremaining: 523ms\n",
            "36:\tlearn: 0.0893133\ttotal: 302ms\tremaining: 514ms\n",
            "37:\tlearn: 0.0886787\ttotal: 309ms\tremaining: 504ms\n",
            "38:\tlearn: 0.0879728\ttotal: 317ms\tremaining: 495ms\n",
            "39:\tlearn: 0.0876562\ttotal: 324ms\tremaining: 486ms\n",
            "40:\tlearn: 0.0872102\ttotal: 331ms\tremaining: 477ms\n",
            "41:\tlearn: 0.0857675\ttotal: 339ms\tremaining: 468ms\n",
            "42:\tlearn: 0.0850620\ttotal: 347ms\tremaining: 460ms\n",
            "43:\tlearn: 0.0843959\ttotal: 354ms\tremaining: 451ms\n",
            "44:\tlearn: 0.0834215\ttotal: 362ms\tremaining: 442ms\n",
            "45:\tlearn: 0.0820037\ttotal: 374ms\tremaining: 439ms\n",
            "46:\tlearn: 0.0810695\ttotal: 382ms\tremaining: 430ms\n",
            "47:\tlearn: 0.0802741\ttotal: 389ms\tremaining: 422ms\n",
            "48:\tlearn: 0.0798392\ttotal: 397ms\tremaining: 413ms\n",
            "49:\tlearn: 0.0790317\ttotal: 404ms\tremaining: 404ms\n",
            "50:\tlearn: 0.0780424\ttotal: 412ms\tremaining: 395ms\n",
            "51:\tlearn: 0.0771435\ttotal: 419ms\tremaining: 387ms\n",
            "52:\tlearn: 0.0764485\ttotal: 427ms\tremaining: 379ms\n",
            "53:\tlearn: 0.0758983\ttotal: 435ms\tremaining: 370ms\n",
            "54:\tlearn: 0.0752205\ttotal: 443ms\tremaining: 362ms\n",
            "55:\tlearn: 0.0748049\ttotal: 450ms\tremaining: 354ms\n",
            "56:\tlearn: 0.0745428\ttotal: 458ms\tremaining: 345ms\n",
            "57:\tlearn: 0.0735087\ttotal: 465ms\tremaining: 337ms\n",
            "58:\tlearn: 0.0727815\ttotal: 473ms\tremaining: 329ms\n",
            "59:\tlearn: 0.0720080\ttotal: 483ms\tremaining: 322ms\n",
            "60:\tlearn: 0.0715623\ttotal: 491ms\tremaining: 314ms\n",
            "61:\tlearn: 0.0713214\ttotal: 499ms\tremaining: 306ms\n",
            "62:\tlearn: 0.0710985\ttotal: 507ms\tremaining: 297ms\n",
            "63:\tlearn: 0.0703709\ttotal: 514ms\tremaining: 289ms\n",
            "64:\tlearn: 0.0697910\ttotal: 522ms\tremaining: 281ms\n",
            "65:\tlearn: 0.0691483\ttotal: 529ms\tremaining: 273ms\n",
            "66:\tlearn: 0.0688065\ttotal: 537ms\tremaining: 265ms\n",
            "67:\tlearn: 0.0684624\ttotal: 545ms\tremaining: 256ms\n",
            "68:\tlearn: 0.0682329\ttotal: 552ms\tremaining: 248ms\n",
            "69:\tlearn: 0.0671775\ttotal: 560ms\tremaining: 240ms\n",
            "70:\tlearn: 0.0661355\ttotal: 569ms\tremaining: 232ms\n",
            "71:\tlearn: 0.0649490\ttotal: 579ms\tremaining: 225ms\n",
            "72:\tlearn: 0.0643556\ttotal: 586ms\tremaining: 217ms\n",
            "73:\tlearn: 0.0632978\ttotal: 594ms\tremaining: 209ms\n",
            "74:\tlearn: 0.0626541\ttotal: 602ms\tremaining: 201ms\n",
            "75:\tlearn: 0.0622926\ttotal: 609ms\tremaining: 192ms\n",
            "76:\tlearn: 0.0618602\ttotal: 617ms\tremaining: 184ms\n",
            "77:\tlearn: 0.0614989\ttotal: 624ms\tremaining: 176ms\n",
            "78:\tlearn: 0.0605937\ttotal: 631ms\tremaining: 168ms\n",
            "79:\tlearn: 0.0597356\ttotal: 639ms\tremaining: 160ms\n",
            "80:\tlearn: 0.0590850\ttotal: 647ms\tremaining: 152ms\n",
            "81:\tlearn: 0.0586308\ttotal: 654ms\tremaining: 144ms\n",
            "82:\tlearn: 0.0581268\ttotal: 662ms\tremaining: 136ms\n",
            "83:\tlearn: 0.0577455\ttotal: 669ms\tremaining: 128ms\n",
            "84:\tlearn: 0.0573304\ttotal: 677ms\tremaining: 119ms\n",
            "85:\tlearn: 0.0567986\ttotal: 685ms\tremaining: 111ms\n",
            "86:\tlearn: 0.0562027\ttotal: 692ms\tremaining: 103ms\n",
            "87:\tlearn: 0.0560345\ttotal: 700ms\tremaining: 95.4ms\n",
            "88:\tlearn: 0.0556811\ttotal: 707ms\tremaining: 87.4ms\n",
            "89:\tlearn: 0.0551311\ttotal: 715ms\tremaining: 79.5ms\n",
            "90:\tlearn: 0.0548216\ttotal: 723ms\tremaining: 71.5ms\n",
            "91:\tlearn: 0.0544058\ttotal: 730ms\tremaining: 63.5ms\n",
            "92:\tlearn: 0.0543013\ttotal: 738ms\tremaining: 55.5ms\n",
            "93:\tlearn: 0.0536852\ttotal: 745ms\tremaining: 47.6ms\n",
            "94:\tlearn: 0.0530039\ttotal: 757ms\tremaining: 39.8ms\n",
            "95:\tlearn: 0.0527420\ttotal: 765ms\tremaining: 31.9ms\n",
            "96:\tlearn: 0.0525372\ttotal: 777ms\tremaining: 24ms\n",
            "97:\tlearn: 0.0523731\ttotal: 785ms\tremaining: 16ms\n",
            "98:\tlearn: 0.0522648\ttotal: 793ms\tremaining: 8.01ms\n",
            "99:\tlearn: 0.0518166\ttotal: 801ms\tremaining: 0us\n",
            "CatBoost Classifier:\n",
            "ROC score 0.9927653795573649\n",
            "Accuracy 0.9730077120822622\n",
            "f1 0.9729948181389929\n",
            "Recall 0.9730077120822622\n",
            "Precision 0.9739128131786642\n",
            "\n"
          ],
          "name": "stdout"
        }
      ]
    },
    {
      "cell_type": "markdown",
      "metadata": {
        "id": "-kLjTdm72SJD"
      },
      "source": [
        "since Random Forest and Catboost classifier is the models with best score we will compare this two models for unseen data."
      ]
    },
    {
      "cell_type": "markdown",
      "metadata": {
        "id": "DT3amwMGQ2uA"
      },
      "source": [
        "since there is no difference for random forest and catboost classifier whether the data is standarize or not, we will use the non standarize data"
      ]
    },
    {
      "cell_type": "markdown",
      "metadata": {
        "id": "vEiS1wMXRRMe"
      },
      "source": [
        "#Hyperparameter tuning"
      ]
    },
    {
      "cell_type": "code",
      "metadata": {
        "id": "IcN4M4VK2JPP"
      },
      "source": [
        "# param_grid_RF = {'bootstrap': [True, False],\n",
        "#  'max_depth': [10, 20, 30, 40, 50, 60, 70, 80, 90, 100, None],\n",
        "#  'max_features': ['auto', 'sqrt'],\n",
        "#  'min_samples_leaf': [1, 2, 4],\n",
        "#  'min_samples_split': [2, 5, 10],\n",
        "#  'n_estimators': [200, 400, 600, 800, 1000, 1200, 1400, 1600, 1800, 2000]}\n",
        "\n",
        "# rf = RandomForestClassifier(random_state = 42)\n",
        "# rf_random = RandomizedSearchCV(estimator = rf, param_distributions = param_grid_RF, n_iter = 100, cv = 3, verbose=2, random_state=42, n_jobs = -1)\n",
        "# rf_random.fit(X, y)"
      ],
      "execution_count": 288,
      "outputs": []
    },
    {
      "cell_type": "code",
      "metadata": {
        "id": "6-REmCXNZvBG"
      },
      "source": [
        "# rf_best_params = rf_random.best_params_"
      ],
      "execution_count": 289,
      "outputs": []
    },
    {
      "cell_type": "code",
      "metadata": {
        "id": "tWjyuA_uZ9-t"
      },
      "source": [
        "# rf_best_params"
      ],
      "execution_count": 290,
      "outputs": []
    },
    {
      "cell_type": "code",
      "metadata": {
        "id": "2r6HNvx4aCi1"
      },
      "source": [
        "RF = RandomForestClassifier(bootstrap= False,\n",
        " max_depth= 100,\n",
        " max_features= 'auto',\n",
        " min_samples_leaf= 1,\n",
        " min_samples_split= 10,\n",
        " n_estimators= 600)"
      ],
      "execution_count": 291,
      "outputs": []
    },
    {
      "cell_type": "code",
      "metadata": {
        "id": "aZojIwvBaX6G"
      },
      "source": [
        "# catboost_params = {'max_depth': [3,4,5],'n_estimators':[100, 200, 300]}\n",
        "# CB = CatBoostClassifier(random_state = 42)\n",
        "# gscv = GridSearchCV(estimator = CB, param_grid = catboost_params, cv = 3, verbose=2, n_jobs = -1)\n",
        "# gscv.fit(X, y)"
      ],
      "execution_count": 292,
      "outputs": []
    },
    {
      "cell_type": "code",
      "metadata": {
        "id": "Cuys8pXlbsR_"
      },
      "source": [
        "# cb_best_params = gscv.best_params_"
      ],
      "execution_count": 293,
      "outputs": []
    },
    {
      "cell_type": "code",
      "metadata": {
        "id": "0hQup740cTdy"
      },
      "source": [
        "# cb_best_params"
      ],
      "execution_count": 294,
      "outputs": []
    },
    {
      "cell_type": "code",
      "metadata": {
        "id": "nbnqKmq-cVRq"
      },
      "source": [
        "CBC = CatBoostClassifier(max_depth= 3, n_estimators= 200)"
      ],
      "execution_count": 295,
      "outputs": []
    },
    {
      "cell_type": "markdown",
      "metadata": {
        "id": "zJe6CROy6mQS"
      },
      "source": [
        "#final score"
      ]
    },
    {
      "cell_type": "markdown",
      "metadata": {
        "id": "1OuealJODhdS"
      },
      "source": [
        "###With hyperparameter Tuning"
      ]
    },
    {
      "cell_type": "code",
      "metadata": {
        "id": "TkmRpjNz5bPr"
      },
      "source": [
        "def final_score(model):\n",
        "  y_pred = model.fit(X, y).predict(X_val)\n",
        "  try:\n",
        "    score  = model.predict_proba(X_val)[:, 1]\n",
        "    roc = roc_auc_score(y_val, score, average ='weighted')\n",
        "  except:\n",
        "    roc = 0\n",
        "  print(f'ROC score {roc}')\n",
        "  print(f'Accuracy {accuracy_score(y_val,y_pred)}')\n",
        "  print(f'f1 {f1_score(y_val,y_pred, average = \"weighted\")}')\n",
        "  print(f'Recall {recall_score(y_val,y_pred, average = \"weighted\")}')\n",
        "  print(f'Precision {precision_score(y_val,y_pred, average = \"weighted\")}')\n",
        "  print()\n",
        "\n",
        "def class_report(model):\n",
        "  y_pred = model.fit(X, y).predict(X_val)\n",
        "  print(classification_report(y_val, y_pred))"
      ],
      "execution_count": 296,
      "outputs": []
    },
    {
      "cell_type": "code",
      "metadata": {
        "colab": {
          "base_uri": "https://localhost:8080/"
        },
        "id": "wNpssCjUBGCQ",
        "outputId": "3ae9d212-fcd0-4e69-8e66-6facb367441e"
      },
      "source": [
        "final_score(RF)"
      ],
      "execution_count": 297,
      "outputs": [
        {
          "output_type": "stream",
          "text": [
            "ROC score 0.9952968841857731\n",
            "Accuracy 0.9763496143958869\n",
            "f1 0.9763421724479074\n",
            "Recall 0.9763496143958869\n",
            "Precision 0.9769321656391948\n",
            "\n"
          ],
          "name": "stdout"
        }
      ]
    },
    {
      "cell_type": "code",
      "metadata": {
        "colab": {
          "base_uri": "https://localhost:8080/"
        },
        "id": "ZfrJHCYTdiDX",
        "outputId": "3dc9d70e-73b8-4577-ea8d-9941802afc73"
      },
      "source": [
        "final_score(CBC)"
      ],
      "execution_count": 298,
      "outputs": [
        {
          "output_type": "stream",
          "text": [
            "Learning rate set to 0.10821\n",
            "0:\tlearn: 0.6316854\ttotal: 4.42ms\tremaining: 880ms\n",
            "1:\tlearn: 0.5595767\ttotal: 9ms\tremaining: 891ms\n",
            "2:\tlearn: 0.4919479\ttotal: 13.2ms\tremaining: 867ms\n",
            "3:\tlearn: 0.4346327\ttotal: 17.5ms\tremaining: 857ms\n",
            "4:\tlearn: 0.3928915\ttotal: 21.7ms\tremaining: 846ms\n",
            "5:\tlearn: 0.3682458\ttotal: 26ms\tremaining: 840ms\n",
            "6:\tlearn: 0.3250987\ttotal: 30.2ms\tremaining: 834ms\n",
            "7:\tlearn: 0.2961341\ttotal: 34.6ms\tremaining: 831ms\n",
            "8:\tlearn: 0.2731360\ttotal: 38.9ms\tremaining: 827ms\n",
            "9:\tlearn: 0.2615991\ttotal: 43.3ms\tremaining: 823ms\n",
            "10:\tlearn: 0.2517416\ttotal: 47.7ms\tremaining: 819ms\n",
            "11:\tlearn: 0.2383065\ttotal: 52.2ms\tremaining: 818ms\n",
            "12:\tlearn: 0.2269338\ttotal: 58ms\tremaining: 835ms\n",
            "13:\tlearn: 0.2181925\ttotal: 65ms\tremaining: 863ms\n",
            "14:\tlearn: 0.2066817\ttotal: 69.3ms\tremaining: 855ms\n",
            "15:\tlearn: 0.1988039\ttotal: 73.5ms\tremaining: 846ms\n",
            "16:\tlearn: 0.1894366\ttotal: 77.8ms\tremaining: 838ms\n",
            "17:\tlearn: 0.1868540\ttotal: 82ms\tremaining: 829ms\n",
            "18:\tlearn: 0.1804522\ttotal: 86.2ms\tremaining: 821ms\n",
            "19:\tlearn: 0.1751082\ttotal: 90.4ms\tremaining: 814ms\n",
            "20:\tlearn: 0.1697439\ttotal: 94.8ms\tremaining: 808ms\n",
            "21:\tlearn: 0.1668064\ttotal: 99.1ms\tremaining: 802ms\n",
            "22:\tlearn: 0.1600395\ttotal: 103ms\tremaining: 796ms\n",
            "23:\tlearn: 0.1553232\ttotal: 108ms\tremaining: 790ms\n",
            "24:\tlearn: 0.1541786\ttotal: 112ms\tremaining: 784ms\n",
            "25:\tlearn: 0.1517166\ttotal: 116ms\tremaining: 779ms\n",
            "26:\tlearn: 0.1505384\ttotal: 120ms\tremaining: 772ms\n",
            "27:\tlearn: 0.1493573\ttotal: 124ms\tremaining: 764ms\n",
            "28:\tlearn: 0.1483202\ttotal: 129ms\tremaining: 759ms\n",
            "29:\tlearn: 0.1474814\ttotal: 133ms\tremaining: 753ms\n",
            "30:\tlearn: 0.1464408\ttotal: 137ms\tremaining: 747ms\n",
            "31:\tlearn: 0.1454263\ttotal: 141ms\tremaining: 741ms\n",
            "32:\tlearn: 0.1450422\ttotal: 145ms\tremaining: 734ms\n",
            "33:\tlearn: 0.1440740\ttotal: 149ms\tremaining: 730ms\n",
            "34:\tlearn: 0.1435169\ttotal: 158ms\tremaining: 745ms\n",
            "35:\tlearn: 0.1426985\ttotal: 163ms\tremaining: 741ms\n",
            "36:\tlearn: 0.1423835\ttotal: 167ms\tremaining: 735ms\n",
            "37:\tlearn: 0.1415714\ttotal: 171ms\tremaining: 731ms\n",
            "38:\tlearn: 0.1409424\ttotal: 176ms\tremaining: 725ms\n",
            "39:\tlearn: 0.1376776\ttotal: 180ms\tremaining: 720ms\n",
            "40:\tlearn: 0.1372598\ttotal: 184ms\tremaining: 713ms\n",
            "41:\tlearn: 0.1367466\ttotal: 188ms\tremaining: 708ms\n",
            "42:\tlearn: 0.1341732\ttotal: 193ms\tremaining: 706ms\n",
            "43:\tlearn: 0.1318679\ttotal: 200ms\tremaining: 708ms\n",
            "44:\tlearn: 0.1314986\ttotal: 204ms\tremaining: 702ms\n",
            "45:\tlearn: 0.1310656\ttotal: 208ms\tremaining: 697ms\n",
            "46:\tlearn: 0.1307600\ttotal: 213ms\tremaining: 692ms\n",
            "47:\tlearn: 0.1291801\ttotal: 217ms\tremaining: 687ms\n",
            "48:\tlearn: 0.1286548\ttotal: 221ms\tremaining: 681ms\n",
            "49:\tlearn: 0.1269518\ttotal: 225ms\tremaining: 675ms\n",
            "50:\tlearn: 0.1266159\ttotal: 229ms\tremaining: 670ms\n",
            "51:\tlearn: 0.1264020\ttotal: 234ms\tremaining: 665ms\n",
            "52:\tlearn: 0.1260202\ttotal: 238ms\tremaining: 660ms\n",
            "53:\tlearn: 0.1257811\ttotal: 242ms\tremaining: 654ms\n",
            "54:\tlearn: 0.1255665\ttotal: 246ms\tremaining: 649ms\n",
            "55:\tlearn: 0.1251749\ttotal: 250ms\tremaining: 644ms\n",
            "56:\tlearn: 0.1236705\ttotal: 255ms\tremaining: 639ms\n",
            "57:\tlearn: 0.1223432\ttotal: 259ms\tremaining: 633ms\n",
            "58:\tlearn: 0.1219341\ttotal: 263ms\tremaining: 628ms\n",
            "59:\tlearn: 0.1217215\ttotal: 267ms\tremaining: 623ms\n",
            "60:\tlearn: 0.1214340\ttotal: 272ms\tremaining: 619ms\n",
            "61:\tlearn: 0.1210425\ttotal: 275ms\tremaining: 613ms\n",
            "62:\tlearn: 0.1207810\ttotal: 280ms\tremaining: 608ms\n",
            "63:\tlearn: 0.1205709\ttotal: 284ms\tremaining: 604ms\n",
            "64:\tlearn: 0.1195804\ttotal: 289ms\tremaining: 600ms\n",
            "65:\tlearn: 0.1193115\ttotal: 293ms\tremaining: 595ms\n",
            "66:\tlearn: 0.1190586\ttotal: 297ms\tremaining: 591ms\n",
            "67:\tlearn: 0.1176057\ttotal: 302ms\tremaining: 586ms\n",
            "68:\tlearn: 0.1171979\ttotal: 306ms\tremaining: 582ms\n",
            "69:\tlearn: 0.1169471\ttotal: 313ms\tremaining: 582ms\n",
            "70:\tlearn: 0.1167395\ttotal: 320ms\tremaining: 581ms\n",
            "71:\tlearn: 0.1158205\ttotal: 324ms\tremaining: 576ms\n",
            "72:\tlearn: 0.1155437\ttotal: 328ms\tremaining: 571ms\n",
            "73:\tlearn: 0.1152688\ttotal: 332ms\tremaining: 566ms\n",
            "74:\tlearn: 0.1144206\ttotal: 337ms\tremaining: 561ms\n",
            "75:\tlearn: 0.1142161\ttotal: 341ms\tremaining: 556ms\n",
            "76:\tlearn: 0.1140229\ttotal: 345ms\tremaining: 552ms\n",
            "77:\tlearn: 0.1137733\ttotal: 350ms\tremaining: 547ms\n",
            "78:\tlearn: 0.1128856\ttotal: 355ms\tremaining: 544ms\n",
            "79:\tlearn: 0.1127103\ttotal: 362ms\tremaining: 543ms\n",
            "80:\tlearn: 0.1116964\ttotal: 367ms\tremaining: 539ms\n",
            "81:\tlearn: 0.1114141\ttotal: 371ms\tremaining: 534ms\n",
            "82:\tlearn: 0.1110104\ttotal: 375ms\tremaining: 528ms\n",
            "83:\tlearn: 0.1108781\ttotal: 379ms\tremaining: 523ms\n",
            "84:\tlearn: 0.1098015\ttotal: 383ms\tremaining: 518ms\n",
            "85:\tlearn: 0.1093818\ttotal: 388ms\tremaining: 514ms\n",
            "86:\tlearn: 0.1091835\ttotal: 394ms\tremaining: 512ms\n",
            "87:\tlearn: 0.1079111\ttotal: 399ms\tremaining: 508ms\n",
            "88:\tlearn: 0.1076778\ttotal: 403ms\tremaining: 503ms\n",
            "89:\tlearn: 0.1073852\ttotal: 407ms\tremaining: 498ms\n",
            "90:\tlearn: 0.1070982\ttotal: 412ms\tremaining: 493ms\n",
            "91:\tlearn: 0.1062561\ttotal: 416ms\tremaining: 489ms\n",
            "92:\tlearn: 0.1059569\ttotal: 420ms\tremaining: 484ms\n",
            "93:\tlearn: 0.1057275\ttotal: 424ms\tremaining: 479ms\n",
            "94:\tlearn: 0.1055335\ttotal: 429ms\tremaining: 474ms\n",
            "95:\tlearn: 0.1053555\ttotal: 433ms\tremaining: 469ms\n",
            "96:\tlearn: 0.1051072\ttotal: 437ms\tremaining: 464ms\n",
            "97:\tlearn: 0.1049262\ttotal: 441ms\tremaining: 459ms\n",
            "98:\tlearn: 0.1045746\ttotal: 446ms\tremaining: 455ms\n",
            "99:\tlearn: 0.1043237\ttotal: 450ms\tremaining: 450ms\n",
            "100:\tlearn: 0.1041015\ttotal: 454ms\tremaining: 445ms\n",
            "101:\tlearn: 0.1039026\ttotal: 459ms\tremaining: 441ms\n",
            "102:\tlearn: 0.1036146\ttotal: 463ms\tremaining: 436ms\n",
            "103:\tlearn: 0.1034561\ttotal: 467ms\tremaining: 431ms\n",
            "104:\tlearn: 0.1032519\ttotal: 472ms\tremaining: 427ms\n",
            "105:\tlearn: 0.1031055\ttotal: 476ms\tremaining: 422ms\n",
            "106:\tlearn: 0.1029171\ttotal: 480ms\tremaining: 417ms\n",
            "107:\tlearn: 0.1027438\ttotal: 484ms\tremaining: 413ms\n",
            "108:\tlearn: 0.1024976\ttotal: 489ms\tremaining: 408ms\n",
            "109:\tlearn: 0.1024097\ttotal: 493ms\tremaining: 403ms\n",
            "110:\tlearn: 0.1022402\ttotal: 497ms\tremaining: 399ms\n",
            "111:\tlearn: 0.1021476\ttotal: 501ms\tremaining: 394ms\n",
            "112:\tlearn: 0.1019663\ttotal: 505ms\tremaining: 389ms\n",
            "113:\tlearn: 0.1018143\ttotal: 510ms\tremaining: 385ms\n",
            "114:\tlearn: 0.1015480\ttotal: 514ms\tremaining: 380ms\n",
            "115:\tlearn: 0.1012939\ttotal: 518ms\tremaining: 375ms\n",
            "116:\tlearn: 0.1011753\ttotal: 522ms\tremaining: 371ms\n",
            "117:\tlearn: 0.1010136\ttotal: 527ms\tremaining: 366ms\n",
            "118:\tlearn: 0.1007914\ttotal: 531ms\tremaining: 361ms\n",
            "119:\tlearn: 0.1005711\ttotal: 535ms\tremaining: 357ms\n",
            "120:\tlearn: 0.1004549\ttotal: 539ms\tremaining: 352ms\n",
            "121:\tlearn: 0.1002695\ttotal: 543ms\tremaining: 347ms\n",
            "122:\tlearn: 0.1001315\ttotal: 547ms\tremaining: 343ms\n",
            "123:\tlearn: 0.0998673\ttotal: 553ms\tremaining: 339ms\n",
            "124:\tlearn: 0.0996522\ttotal: 558ms\tremaining: 335ms\n",
            "125:\tlearn: 0.0995107\ttotal: 563ms\tremaining: 331ms\n",
            "126:\tlearn: 0.0993848\ttotal: 567ms\tremaining: 326ms\n",
            "127:\tlearn: 0.0992203\ttotal: 571ms\tremaining: 321ms\n",
            "128:\tlearn: 0.0990990\ttotal: 576ms\tremaining: 317ms\n",
            "129:\tlearn: 0.0989712\ttotal: 580ms\tremaining: 312ms\n",
            "130:\tlearn: 0.0985894\ttotal: 584ms\tremaining: 308ms\n",
            "131:\tlearn: 0.0984416\ttotal: 588ms\tremaining: 303ms\n",
            "132:\tlearn: 0.0982479\ttotal: 595ms\tremaining: 300ms\n",
            "133:\tlearn: 0.0981343\ttotal: 599ms\tremaining: 295ms\n",
            "134:\tlearn: 0.0979648\ttotal: 604ms\tremaining: 291ms\n",
            "135:\tlearn: 0.0977500\ttotal: 608ms\tremaining: 286ms\n",
            "136:\tlearn: 0.0976172\ttotal: 612ms\tremaining: 281ms\n",
            "137:\tlearn: 0.0974466\ttotal: 616ms\tremaining: 277ms\n",
            "138:\tlearn: 0.0972687\ttotal: 620ms\tremaining: 272ms\n",
            "139:\tlearn: 0.0971666\ttotal: 625ms\tremaining: 268ms\n",
            "140:\tlearn: 0.0970149\ttotal: 629ms\tremaining: 263ms\n",
            "141:\tlearn: 0.0968699\ttotal: 633ms\tremaining: 259ms\n",
            "142:\tlearn: 0.0966782\ttotal: 641ms\tremaining: 255ms\n",
            "143:\tlearn: 0.0965154\ttotal: 647ms\tremaining: 251ms\n",
            "144:\tlearn: 0.0964008\ttotal: 652ms\tremaining: 247ms\n",
            "145:\tlearn: 0.0961338\ttotal: 657ms\tremaining: 243ms\n",
            "146:\tlearn: 0.0958582\ttotal: 661ms\tremaining: 238ms\n",
            "147:\tlearn: 0.0957677\ttotal: 665ms\tremaining: 234ms\n",
            "148:\tlearn: 0.0956738\ttotal: 670ms\tremaining: 229ms\n",
            "149:\tlearn: 0.0955953\ttotal: 674ms\tremaining: 225ms\n",
            "150:\tlearn: 0.0953485\ttotal: 678ms\tremaining: 220ms\n",
            "151:\tlearn: 0.0952791\ttotal: 683ms\tremaining: 216ms\n",
            "152:\tlearn: 0.0951453\ttotal: 687ms\tremaining: 211ms\n",
            "153:\tlearn: 0.0950640\ttotal: 691ms\tremaining: 206ms\n",
            "154:\tlearn: 0.0948761\ttotal: 695ms\tremaining: 202ms\n",
            "155:\tlearn: 0.0947514\ttotal: 699ms\tremaining: 197ms\n",
            "156:\tlearn: 0.0945768\ttotal: 704ms\tremaining: 193ms\n",
            "157:\tlearn: 0.0940430\ttotal: 708ms\tremaining: 188ms\n",
            "158:\tlearn: 0.0937439\ttotal: 713ms\tremaining: 184ms\n",
            "159:\tlearn: 0.0936084\ttotal: 717ms\tremaining: 179ms\n",
            "160:\tlearn: 0.0934142\ttotal: 721ms\tremaining: 175ms\n",
            "161:\tlearn: 0.0932637\ttotal: 726ms\tremaining: 170ms\n",
            "162:\tlearn: 0.0931562\ttotal: 730ms\tremaining: 166ms\n",
            "163:\tlearn: 0.0930502\ttotal: 734ms\tremaining: 161ms\n",
            "164:\tlearn: 0.0928534\ttotal: 739ms\tremaining: 157ms\n",
            "165:\tlearn: 0.0927393\ttotal: 743ms\tremaining: 152ms\n",
            "166:\tlearn: 0.0926121\ttotal: 747ms\tremaining: 148ms\n",
            "167:\tlearn: 0.0923416\ttotal: 756ms\tremaining: 144ms\n",
            "168:\tlearn: 0.0921730\ttotal: 761ms\tremaining: 140ms\n",
            "169:\tlearn: 0.0916760\ttotal: 765ms\tremaining: 135ms\n",
            "170:\tlearn: 0.0914377\ttotal: 769ms\tremaining: 130ms\n",
            "171:\tlearn: 0.0913119\ttotal: 773ms\tremaining: 126ms\n",
            "172:\tlearn: 0.0911567\ttotal: 777ms\tremaining: 121ms\n",
            "173:\tlearn: 0.0910955\ttotal: 782ms\tremaining: 117ms\n",
            "174:\tlearn: 0.0909650\ttotal: 789ms\tremaining: 113ms\n",
            "175:\tlearn: 0.0907457\ttotal: 793ms\tremaining: 108ms\n",
            "176:\tlearn: 0.0904972\ttotal: 798ms\tremaining: 104ms\n",
            "177:\tlearn: 0.0903944\ttotal: 802ms\tremaining: 99.1ms\n",
            "178:\tlearn: 0.0902288\ttotal: 806ms\tremaining: 94.6ms\n",
            "179:\tlearn: 0.0900315\ttotal: 810ms\tremaining: 90ms\n",
            "180:\tlearn: 0.0899565\ttotal: 815ms\tremaining: 85.5ms\n",
            "181:\tlearn: 0.0898916\ttotal: 819ms\tremaining: 81ms\n",
            "182:\tlearn: 0.0898088\ttotal: 823ms\tremaining: 76.5ms\n",
            "183:\tlearn: 0.0896773\ttotal: 827ms\tremaining: 71.9ms\n",
            "184:\tlearn: 0.0895775\ttotal: 832ms\tremaining: 67.4ms\n",
            "185:\tlearn: 0.0894785\ttotal: 836ms\tremaining: 62.9ms\n",
            "186:\tlearn: 0.0894266\ttotal: 843ms\tremaining: 58.6ms\n",
            "187:\tlearn: 0.0892921\ttotal: 848ms\tremaining: 54.1ms\n",
            "188:\tlearn: 0.0890075\ttotal: 852ms\tremaining: 49.6ms\n",
            "189:\tlearn: 0.0889278\ttotal: 857ms\tremaining: 45.1ms\n",
            "190:\tlearn: 0.0888063\ttotal: 861ms\tremaining: 40.6ms\n",
            "191:\tlearn: 0.0887300\ttotal: 865ms\tremaining: 36ms\n",
            "192:\tlearn: 0.0886295\ttotal: 869ms\tremaining: 31.5ms\n",
            "193:\tlearn: 0.0885479\ttotal: 874ms\tremaining: 27ms\n",
            "194:\tlearn: 0.0884262\ttotal: 878ms\tremaining: 22.5ms\n",
            "195:\tlearn: 0.0883383\ttotal: 882ms\tremaining: 18ms\n",
            "196:\tlearn: 0.0882435\ttotal: 889ms\tremaining: 13.5ms\n",
            "197:\tlearn: 0.0880716\ttotal: 898ms\tremaining: 9.07ms\n",
            "198:\tlearn: 0.0879712\ttotal: 902ms\tremaining: 4.53ms\n",
            "199:\tlearn: 0.0879246\ttotal: 907ms\tremaining: 0us\n",
            "ROC score 0.9921026142049323\n",
            "Accuracy 0.9701799485861182\n",
            "f1 0.970168261882575\n",
            "Recall 0.9701799485861182\n",
            "Precision 0.9708983558119675\n",
            "\n"
          ],
          "name": "stdout"
        }
      ]
    },
    {
      "cell_type": "code",
      "metadata": {
        "colab": {
          "base_uri": "https://localhost:8080/"
        },
        "id": "bjv_6wuneBUI",
        "outputId": "91af6969-7398-40e8-a550-5a1eb5f9dca2"
      },
      "source": [
        "class_report(RF)"
      ],
      "execution_count": 299,
      "outputs": [
        {
          "output_type": "stream",
          "text": [
            "              precision    recall  f1-score   support\n",
            "\n",
            "           0       0.96      1.00      0.98       973\n",
            "           1       1.00      0.96      0.98       972\n",
            "\n",
            "    accuracy                           0.98      1945\n",
            "   macro avg       0.98      0.98      0.98      1945\n",
            "weighted avg       0.98      0.98      0.98      1945\n",
            "\n"
          ],
          "name": "stdout"
        }
      ]
    },
    {
      "cell_type": "code",
      "metadata": {
        "colab": {
          "base_uri": "https://localhost:8080/"
        },
        "id": "810WhE8Jdxzu",
        "outputId": "b5b07e90-1530-4e6a-8d89-88c0c10aa6db"
      },
      "source": [
        "class_report(CBC)"
      ],
      "execution_count": 300,
      "outputs": [
        {
          "output_type": "stream",
          "text": [
            "Learning rate set to 0.10821\n",
            "0:\tlearn: 0.6316854\ttotal: 4.04ms\tremaining: 805ms\n",
            "1:\tlearn: 0.5595767\ttotal: 8.74ms\tremaining: 865ms\n",
            "2:\tlearn: 0.4919479\ttotal: 13.1ms\tremaining: 863ms\n",
            "3:\tlearn: 0.4346327\ttotal: 17.3ms\tremaining: 849ms\n",
            "4:\tlearn: 0.3928915\ttotal: 21.5ms\tremaining: 840ms\n",
            "5:\tlearn: 0.3682458\ttotal: 27.5ms\tremaining: 889ms\n",
            "6:\tlearn: 0.3250987\ttotal: 32.2ms\tremaining: 887ms\n",
            "7:\tlearn: 0.2961341\ttotal: 36.5ms\tremaining: 876ms\n",
            "8:\tlearn: 0.2731360\ttotal: 40.9ms\tremaining: 867ms\n",
            "9:\tlearn: 0.2615991\ttotal: 45.1ms\tremaining: 857ms\n",
            "10:\tlearn: 0.2517416\ttotal: 49.5ms\tremaining: 850ms\n",
            "11:\tlearn: 0.2383065\ttotal: 53.8ms\tremaining: 843ms\n",
            "12:\tlearn: 0.2269338\ttotal: 58.1ms\tremaining: 836ms\n",
            "13:\tlearn: 0.2181925\ttotal: 62.4ms\tremaining: 829ms\n",
            "14:\tlearn: 0.2066817\ttotal: 66.7ms\tremaining: 823ms\n",
            "15:\tlearn: 0.1988039\ttotal: 71.2ms\tremaining: 818ms\n",
            "16:\tlearn: 0.1894366\ttotal: 75.5ms\tremaining: 813ms\n",
            "17:\tlearn: 0.1868540\ttotal: 79.8ms\tremaining: 807ms\n",
            "18:\tlearn: 0.1804522\ttotal: 84.1ms\tremaining: 801ms\n",
            "19:\tlearn: 0.1751082\ttotal: 88.3ms\tremaining: 795ms\n",
            "20:\tlearn: 0.1697439\ttotal: 92.8ms\tremaining: 791ms\n",
            "21:\tlearn: 0.1668064\ttotal: 97ms\tremaining: 785ms\n",
            "22:\tlearn: 0.1600395\ttotal: 103ms\tremaining: 789ms\n",
            "23:\tlearn: 0.1553232\ttotal: 109ms\tremaining: 802ms\n",
            "24:\tlearn: 0.1541786\ttotal: 115ms\tremaining: 808ms\n",
            "25:\tlearn: 0.1517166\ttotal: 120ms\tremaining: 803ms\n",
            "26:\tlearn: 0.1505384\ttotal: 124ms\tremaining: 797ms\n",
            "27:\tlearn: 0.1493573\ttotal: 129ms\tremaining: 791ms\n",
            "28:\tlearn: 0.1483202\ttotal: 133ms\tremaining: 783ms\n",
            "29:\tlearn: 0.1474814\ttotal: 137ms\tremaining: 778ms\n",
            "30:\tlearn: 0.1464408\ttotal: 141ms\tremaining: 770ms\n",
            "31:\tlearn: 0.1454263\ttotal: 145ms\tremaining: 763ms\n",
            "32:\tlearn: 0.1450422\ttotal: 149ms\tremaining: 755ms\n",
            "33:\tlearn: 0.1440740\ttotal: 155ms\tremaining: 756ms\n",
            "34:\tlearn: 0.1435169\ttotal: 159ms\tremaining: 750ms\n",
            "35:\tlearn: 0.1426985\ttotal: 167ms\tremaining: 759ms\n",
            "36:\tlearn: 0.1423835\ttotal: 171ms\tremaining: 753ms\n",
            "37:\tlearn: 0.1415714\ttotal: 175ms\tremaining: 747ms\n",
            "38:\tlearn: 0.1409424\ttotal: 179ms\tremaining: 741ms\n",
            "39:\tlearn: 0.1376776\ttotal: 184ms\tremaining: 735ms\n",
            "40:\tlearn: 0.1372598\ttotal: 188ms\tremaining: 727ms\n",
            "41:\tlearn: 0.1367466\ttotal: 193ms\tremaining: 725ms\n",
            "42:\tlearn: 0.1341732\ttotal: 199ms\tremaining: 725ms\n",
            "43:\tlearn: 0.1318679\ttotal: 203ms\tremaining: 721ms\n",
            "44:\tlearn: 0.1314986\ttotal: 207ms\tremaining: 715ms\n",
            "45:\tlearn: 0.1310656\ttotal: 212ms\tremaining: 709ms\n",
            "46:\tlearn: 0.1307600\ttotal: 216ms\tremaining: 704ms\n",
            "47:\tlearn: 0.1291801\ttotal: 221ms\tremaining: 699ms\n",
            "48:\tlearn: 0.1286548\ttotal: 225ms\tremaining: 693ms\n",
            "49:\tlearn: 0.1269518\ttotal: 230ms\tremaining: 690ms\n",
            "50:\tlearn: 0.1266159\ttotal: 236ms\tremaining: 691ms\n",
            "51:\tlearn: 0.1264020\ttotal: 241ms\tremaining: 685ms\n",
            "52:\tlearn: 0.1260202\ttotal: 245ms\tremaining: 679ms\n",
            "53:\tlearn: 0.1257811\ttotal: 250ms\tremaining: 675ms\n",
            "54:\tlearn: 0.1255665\ttotal: 255ms\tremaining: 672ms\n",
            "55:\tlearn: 0.1251749\ttotal: 260ms\tremaining: 669ms\n",
            "56:\tlearn: 0.1236705\ttotal: 265ms\tremaining: 664ms\n",
            "57:\tlearn: 0.1223432\ttotal: 269ms\tremaining: 659ms\n",
            "58:\tlearn: 0.1219341\ttotal: 273ms\tremaining: 653ms\n",
            "59:\tlearn: 0.1217215\ttotal: 278ms\tremaining: 648ms\n",
            "60:\tlearn: 0.1214340\ttotal: 282ms\tremaining: 642ms\n",
            "61:\tlearn: 0.1210425\ttotal: 286ms\tremaining: 637ms\n",
            "62:\tlearn: 0.1207810\ttotal: 290ms\tremaining: 632ms\n",
            "63:\tlearn: 0.1205709\ttotal: 295ms\tremaining: 626ms\n",
            "64:\tlearn: 0.1195804\ttotal: 299ms\tremaining: 621ms\n",
            "65:\tlearn: 0.1193115\ttotal: 303ms\tremaining: 615ms\n",
            "66:\tlearn: 0.1190586\ttotal: 308ms\tremaining: 611ms\n",
            "67:\tlearn: 0.1176057\ttotal: 312ms\tremaining: 606ms\n",
            "68:\tlearn: 0.1171979\ttotal: 317ms\tremaining: 601ms\n",
            "69:\tlearn: 0.1169471\ttotal: 321ms\tremaining: 596ms\n",
            "70:\tlearn: 0.1167395\ttotal: 325ms\tremaining: 591ms\n",
            "71:\tlearn: 0.1158205\ttotal: 330ms\tremaining: 586ms\n",
            "72:\tlearn: 0.1155437\ttotal: 334ms\tremaining: 581ms\n",
            "73:\tlearn: 0.1152688\ttotal: 339ms\tremaining: 576ms\n",
            "74:\tlearn: 0.1144206\ttotal: 343ms\tremaining: 572ms\n",
            "75:\tlearn: 0.1142161\ttotal: 347ms\tremaining: 567ms\n",
            "76:\tlearn: 0.1140229\ttotal: 352ms\tremaining: 562ms\n",
            "77:\tlearn: 0.1137733\ttotal: 360ms\tremaining: 563ms\n",
            "78:\tlearn: 0.1128856\ttotal: 365ms\tremaining: 559ms\n",
            "79:\tlearn: 0.1127103\ttotal: 369ms\tremaining: 554ms\n",
            "80:\tlearn: 0.1116964\ttotal: 374ms\tremaining: 549ms\n",
            "81:\tlearn: 0.1114141\ttotal: 378ms\tremaining: 543ms\n",
            "82:\tlearn: 0.1110104\ttotal: 381ms\tremaining: 538ms\n",
            "83:\tlearn: 0.1108781\ttotal: 388ms\tremaining: 536ms\n",
            "84:\tlearn: 0.1098015\ttotal: 395ms\tremaining: 535ms\n",
            "85:\tlearn: 0.1093818\ttotal: 400ms\tremaining: 530ms\n",
            "86:\tlearn: 0.1091835\ttotal: 404ms\tremaining: 525ms\n",
            "87:\tlearn: 0.1079111\ttotal: 409ms\tremaining: 520ms\n",
            "88:\tlearn: 0.1076778\ttotal: 413ms\tremaining: 515ms\n",
            "89:\tlearn: 0.1073852\ttotal: 417ms\tremaining: 510ms\n",
            "90:\tlearn: 0.1070982\ttotal: 421ms\tremaining: 505ms\n",
            "91:\tlearn: 0.1062561\ttotal: 426ms\tremaining: 500ms\n",
            "92:\tlearn: 0.1059569\ttotal: 430ms\tremaining: 494ms\n",
            "93:\tlearn: 0.1057275\ttotal: 437ms\tremaining: 492ms\n",
            "94:\tlearn: 0.1055335\ttotal: 442ms\tremaining: 488ms\n",
            "95:\tlearn: 0.1053555\ttotal: 446ms\tremaining: 483ms\n",
            "96:\tlearn: 0.1051072\ttotal: 450ms\tremaining: 478ms\n",
            "97:\tlearn: 0.1049262\ttotal: 455ms\tremaining: 473ms\n",
            "98:\tlearn: 0.1045746\ttotal: 459ms\tremaining: 468ms\n",
            "99:\tlearn: 0.1043237\ttotal: 463ms\tremaining: 463ms\n",
            "100:\tlearn: 0.1041015\ttotal: 467ms\tremaining: 458ms\n",
            "101:\tlearn: 0.1039026\ttotal: 471ms\tremaining: 453ms\n",
            "102:\tlearn: 0.1036146\ttotal: 476ms\tremaining: 448ms\n",
            "103:\tlearn: 0.1034561\ttotal: 480ms\tremaining: 443ms\n",
            "104:\tlearn: 0.1032519\ttotal: 485ms\tremaining: 438ms\n",
            "105:\tlearn: 0.1031055\ttotal: 489ms\tremaining: 434ms\n",
            "106:\tlearn: 0.1029171\ttotal: 494ms\tremaining: 429ms\n",
            "107:\tlearn: 0.1027438\ttotal: 498ms\tremaining: 424ms\n",
            "108:\tlearn: 0.1024976\ttotal: 502ms\tremaining: 419ms\n",
            "109:\tlearn: 0.1024097\ttotal: 506ms\tremaining: 414ms\n",
            "110:\tlearn: 0.1022402\ttotal: 510ms\tremaining: 409ms\n",
            "111:\tlearn: 0.1021476\ttotal: 515ms\tremaining: 404ms\n",
            "112:\tlearn: 0.1019663\ttotal: 519ms\tremaining: 399ms\n",
            "113:\tlearn: 0.1018143\ttotal: 523ms\tremaining: 395ms\n",
            "114:\tlearn: 0.1015480\ttotal: 527ms\tremaining: 390ms\n",
            "115:\tlearn: 0.1012939\ttotal: 531ms\tremaining: 385ms\n",
            "116:\tlearn: 0.1011753\ttotal: 536ms\tremaining: 380ms\n",
            "117:\tlearn: 0.1010136\ttotal: 540ms\tremaining: 375ms\n",
            "118:\tlearn: 0.1007914\ttotal: 544ms\tremaining: 370ms\n",
            "119:\tlearn: 0.1005711\ttotal: 548ms\tremaining: 366ms\n",
            "120:\tlearn: 0.1004549\ttotal: 553ms\tremaining: 361ms\n",
            "121:\tlearn: 0.1002695\ttotal: 561ms\tremaining: 359ms\n",
            "122:\tlearn: 0.1001315\ttotal: 566ms\tremaining: 354ms\n",
            "123:\tlearn: 0.0998673\ttotal: 570ms\tremaining: 349ms\n",
            "124:\tlearn: 0.0996522\ttotal: 574ms\tremaining: 345ms\n",
            "125:\tlearn: 0.0995107\ttotal: 579ms\tremaining: 340ms\n",
            "126:\tlearn: 0.0993848\ttotal: 583ms\tremaining: 335ms\n",
            "127:\tlearn: 0.0992203\ttotal: 587ms\tremaining: 330ms\n",
            "128:\tlearn: 0.0990990\ttotal: 592ms\tremaining: 326ms\n",
            "129:\tlearn: 0.0989712\ttotal: 598ms\tremaining: 322ms\n",
            "130:\tlearn: 0.0985894\ttotal: 602ms\tremaining: 317ms\n",
            "131:\tlearn: 0.0984416\ttotal: 607ms\tremaining: 313ms\n",
            "132:\tlearn: 0.0982479\ttotal: 611ms\tremaining: 308ms\n",
            "133:\tlearn: 0.0981343\ttotal: 615ms\tremaining: 303ms\n",
            "134:\tlearn: 0.0979648\ttotal: 620ms\tremaining: 298ms\n",
            "135:\tlearn: 0.0977500\ttotal: 624ms\tremaining: 294ms\n",
            "136:\tlearn: 0.0976172\ttotal: 628ms\tremaining: 289ms\n",
            "137:\tlearn: 0.0974466\ttotal: 632ms\tremaining: 284ms\n",
            "138:\tlearn: 0.0972687\ttotal: 636ms\tremaining: 279ms\n",
            "139:\tlearn: 0.0971666\ttotal: 640ms\tremaining: 274ms\n",
            "140:\tlearn: 0.0970149\ttotal: 644ms\tremaining: 270ms\n",
            "141:\tlearn: 0.0968699\ttotal: 649ms\tremaining: 265ms\n",
            "142:\tlearn: 0.0966782\ttotal: 653ms\tremaining: 260ms\n",
            "143:\tlearn: 0.0965154\ttotal: 657ms\tremaining: 256ms\n",
            "144:\tlearn: 0.0964008\ttotal: 661ms\tremaining: 251ms\n",
            "145:\tlearn: 0.0961338\ttotal: 666ms\tremaining: 246ms\n",
            "146:\tlearn: 0.0958582\ttotal: 670ms\tremaining: 242ms\n",
            "147:\tlearn: 0.0957677\ttotal: 674ms\tremaining: 237ms\n",
            "148:\tlearn: 0.0956738\ttotal: 679ms\tremaining: 232ms\n",
            "149:\tlearn: 0.0955953\ttotal: 683ms\tremaining: 228ms\n",
            "150:\tlearn: 0.0953485\ttotal: 687ms\tremaining: 223ms\n",
            "151:\tlearn: 0.0952791\ttotal: 691ms\tremaining: 218ms\n",
            "152:\tlearn: 0.0951453\ttotal: 696ms\tremaining: 214ms\n",
            "153:\tlearn: 0.0950640\ttotal: 700ms\tremaining: 209ms\n",
            "154:\tlearn: 0.0948761\ttotal: 704ms\tremaining: 204ms\n",
            "155:\tlearn: 0.0947514\ttotal: 708ms\tremaining: 200ms\n",
            "156:\tlearn: 0.0945768\ttotal: 713ms\tremaining: 195ms\n",
            "157:\tlearn: 0.0940430\ttotal: 717ms\tremaining: 191ms\n",
            "158:\tlearn: 0.0937439\ttotal: 721ms\tremaining: 186ms\n",
            "159:\tlearn: 0.0936084\ttotal: 726ms\tremaining: 181ms\n",
            "160:\tlearn: 0.0934142\ttotal: 730ms\tremaining: 177ms\n",
            "161:\tlearn: 0.0932637\ttotal: 734ms\tremaining: 172ms\n",
            "162:\tlearn: 0.0931562\ttotal: 739ms\tremaining: 168ms\n",
            "163:\tlearn: 0.0930502\ttotal: 743ms\tremaining: 163ms\n",
            "164:\tlearn: 0.0928534\ttotal: 748ms\tremaining: 159ms\n",
            "165:\tlearn: 0.0927393\ttotal: 754ms\tremaining: 154ms\n",
            "166:\tlearn: 0.0926121\ttotal: 762ms\tremaining: 151ms\n",
            "167:\tlearn: 0.0923416\ttotal: 766ms\tremaining: 146ms\n",
            "168:\tlearn: 0.0921730\ttotal: 770ms\tremaining: 141ms\n",
            "169:\tlearn: 0.0916760\ttotal: 775ms\tremaining: 137ms\n",
            "170:\tlearn: 0.0914377\ttotal: 779ms\tremaining: 132ms\n",
            "171:\tlearn: 0.0913119\ttotal: 783ms\tremaining: 128ms\n",
            "172:\tlearn: 0.0911567\ttotal: 789ms\tremaining: 123ms\n",
            "173:\tlearn: 0.0910955\ttotal: 795ms\tremaining: 119ms\n",
            "174:\tlearn: 0.0909650\ttotal: 800ms\tremaining: 114ms\n",
            "175:\tlearn: 0.0907457\ttotal: 804ms\tremaining: 110ms\n",
            "176:\tlearn: 0.0904972\ttotal: 809ms\tremaining: 105ms\n",
            "177:\tlearn: 0.0903944\ttotal: 813ms\tremaining: 100ms\n",
            "178:\tlearn: 0.0902288\ttotal: 817ms\tremaining: 95.9ms\n",
            "179:\tlearn: 0.0900315\ttotal: 821ms\tremaining: 91.3ms\n",
            "180:\tlearn: 0.0899565\ttotal: 826ms\tremaining: 86.7ms\n",
            "181:\tlearn: 0.0898916\ttotal: 830ms\tremaining: 82.1ms\n",
            "182:\tlearn: 0.0898088\ttotal: 834ms\tremaining: 77.5ms\n",
            "183:\tlearn: 0.0896773\ttotal: 839ms\tremaining: 72.9ms\n",
            "184:\tlearn: 0.0895775\ttotal: 843ms\tremaining: 68.3ms\n",
            "185:\tlearn: 0.0894785\ttotal: 847ms\tremaining: 63.8ms\n",
            "186:\tlearn: 0.0894266\ttotal: 851ms\tremaining: 59.2ms\n",
            "187:\tlearn: 0.0892921\ttotal: 856ms\tremaining: 54.6ms\n",
            "188:\tlearn: 0.0890075\ttotal: 860ms\tremaining: 50ms\n",
            "189:\tlearn: 0.0889278\ttotal: 864ms\tremaining: 45.5ms\n",
            "190:\tlearn: 0.0888063\ttotal: 868ms\tremaining: 40.9ms\n",
            "191:\tlearn: 0.0887300\ttotal: 872ms\tremaining: 36.4ms\n",
            "192:\tlearn: 0.0886295\ttotal: 877ms\tremaining: 31.8ms\n",
            "193:\tlearn: 0.0885479\ttotal: 881ms\tremaining: 27.3ms\n",
            "194:\tlearn: 0.0884262\ttotal: 885ms\tremaining: 22.7ms\n",
            "195:\tlearn: 0.0883383\ttotal: 890ms\tremaining: 18.2ms\n",
            "196:\tlearn: 0.0882435\ttotal: 894ms\tremaining: 13.6ms\n",
            "197:\tlearn: 0.0880716\ttotal: 899ms\tremaining: 9.08ms\n",
            "198:\tlearn: 0.0879712\ttotal: 903ms\tremaining: 4.54ms\n",
            "199:\tlearn: 0.0879246\ttotal: 907ms\tremaining: 0us\n",
            "              precision    recall  f1-score   support\n",
            "\n",
            "           0       0.95      0.99      0.97       973\n",
            "           1       0.99      0.95      0.97       972\n",
            "\n",
            "    accuracy                           0.97      1945\n",
            "   macro avg       0.97      0.97      0.97      1945\n",
            "weighted avg       0.97      0.97      0.97      1945\n",
            "\n"
          ],
          "name": "stdout"
        }
      ]
    },
    {
      "cell_type": "markdown",
      "metadata": {
        "id": "kcJFfSnefp1a"
      },
      "source": [
        "From the score we can see RandomForest model perform better so we will save RandomForest Model"
      ]
    },
    {
      "cell_type": "markdown",
      "metadata": {
        "id": "QloQ_PbyDe88"
      },
      "source": [
        "###Without hyperparameter tuning"
      ]
    },
    {
      "cell_type": "code",
      "metadata": {
        "id": "Cz7OcWvmE6vU"
      },
      "source": [
        "import pickle\n",
        "filename = 'finalized_model.sav'\n",
        "pickle.dump(RF, open(filename, 'wb'))"
      ],
      "execution_count": 301,
      "outputs": []
    },
    {
      "cell_type": "code",
      "metadata": {
        "id": "qTIcs9AxGTIm"
      },
      "source": [
        "loaded_model = pickle.load(open(filename, 'rb'))"
      ],
      "execution_count": 302,
      "outputs": []
    },
    {
      "cell_type": "code",
      "metadata": {
        "colab": {
          "base_uri": "https://localhost:8080/"
        },
        "id": "fE41lzOufVzv",
        "outputId": "df093539-3c1f-42b9-8238-aab6b26bb227"
      },
      "source": [
        "final_score(loaded_model)"
      ],
      "execution_count": 303,
      "outputs": [
        {
          "output_type": "stream",
          "text": [
            "ROC score 0.9955538214930701\n",
            "Accuracy 0.9763496143958869\n",
            "f1 0.9763421724479074\n",
            "Recall 0.9763496143958869\n",
            "Precision 0.9769321656391948\n",
            "\n"
          ],
          "name": "stdout"
        }
      ]
    },
    {
      "cell_type": "code",
      "metadata": {
        "colab": {
          "base_uri": "https://localhost:8080/"
        },
        "id": "2NXZ1yFAf36L",
        "outputId": "0426136f-803e-4e4c-a120-08dd5079e100"
      },
      "source": [
        "class_report(loaded_model)"
      ],
      "execution_count": 304,
      "outputs": [
        {
          "output_type": "stream",
          "text": [
            "              precision    recall  f1-score   support\n",
            "\n",
            "           0       0.96      1.00      0.98       973\n",
            "           1       1.00      0.96      0.98       972\n",
            "\n",
            "    accuracy                           0.98      1945\n",
            "   macro avg       0.98      0.98      0.98      1945\n",
            "weighted avg       0.98      0.98      0.98      1945\n",
            "\n"
          ],
          "name": "stdout"
        }
      ]
    },
    {
      "cell_type": "code",
      "metadata": {
        "id": "0q6CAwErf8SA"
      },
      "source": [
        ""
      ],
      "execution_count": 304,
      "outputs": []
    }
  ]
}