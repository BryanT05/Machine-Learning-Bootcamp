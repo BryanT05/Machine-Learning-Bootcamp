{
  "nbformat": 4,
  "nbformat_minor": 0,
  "metadata": {
    "colab": {
      "name": "Problem Statement.ipynb",
      "provenance": [],
      "collapsed_sections": []
    },
    "kernelspec": {
      "name": "python3",
      "display_name": "Python 3"
    },
    "language_info": {
      "name": "python"
    }
  },
  "cells": [
    {
      "cell_type": "markdown",
      "metadata": {
        "id": "o6AhNdeHxPju"
      },
      "source": [
        "#**Problem Statement**"
      ]
    },
    {
      "cell_type": "markdown",
      "metadata": {
        "id": "tzGxN_eVxYa9"
      },
      "source": [
        "**Context**\n",
        "\n",
        "Stroke has become deadly and can happen to anyone all over the world, this illness has become 2nd leading cause of global death, with approximately 11% of total death according to WHO. Seeing this disease is as dangerous as it is, quick medication has to be done before it become severe.\n",
        "\n",
        "The aim of this project is to predict whether someone has a stroke from their current condition. This dataset contains conditions from many people that will be used in machine learning models.\n",
        "\n",
        "**Bussiness Background**\n",
        "\n",
        "Seeing as many doctors in the hospital usually already busy attending their patients, this model can be a solution to the problem. so, for fast checkup on stroke, no doctors needed, nurse/operator can just operate the model finely and check patients stroke condition.\n",
        "\n",
        "**Bussiness Objective**\n",
        "\n",
        "The objective of this project is to predict whether someone has a stroke without prior knowledge about medical education, so not only doctor, but normal people and nurse will be able help doctor to predict patients condition (stroke).\n",
        "\n",
        "**Output**\n",
        "\n",
        "The output of this project is whether someone has a stroke given his/her conditions such as gender, age, BMI, etc.\n",
        "\n",
        "**Machine Learning Task**\n",
        "\n",
        "This project will be supervised machine learning project, because in the dataset the target (whether someone has stroke) is already given, by using the dataset we can train our model to predict unseen data.\n",
        "\n",
        "**Performance Measure**\n",
        "\n",
        "In order to measure the performance of our model, we will use several metrics such as: ROC AUC, Recall, Precision.\n",
        "\n",
        "**Acknowledgements**\n",
        "\n",
        "This project uses an open source dataset, which contains 11 explanatory features and 5110 entries. This dataset is available at [Kaggle](kaggle.com) and managed by [fedesoriano](https://www.kaggle.com/fedesoriano)"
      ]
    }
  ]
}